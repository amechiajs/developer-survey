{
 "cells": [
  {
   "cell_type": "code",
   "execution_count": 4,
   "metadata": {},
   "outputs": [],
   "source": [
    "import numpy as np\n",
    "import pandas as pd\n",
    "import os\n",
    "import matplotlib.pyplot as plt\n",
    "#from Ipython import display \n",
    "%matplotlib inline\n",
    "\n",
    "import seaborn as sns\n",
    "\n",
    "from sklearn.linear_model import LinearRegression\n",
    "from sklearn.model_selection import train_test_split\n",
    "from sklearn.metrics import r2_score, mean_squared_error\n"
   ]
  },
  {
   "cell_type": "code",
   "execution_count": 5,
   "metadata": {},
   "outputs": [],
   "source": [
    "df = pd.read_csv(r'C:\\Users\\amechi1ajs\\Documents\\developer2020\\survey-results-public.csv')\n"
   ]
  },
  {
   "cell_type": "code",
   "execution_count": 6,
   "metadata": {},
   "outputs": [
    {
     "data": {
      "text/html": [
       "<div>\n",
       "<style scoped>\n",
       "    .dataframe tbody tr th:only-of-type {\n",
       "        vertical-align: middle;\n",
       "    }\n",
       "\n",
       "    .dataframe tbody tr th {\n",
       "        vertical-align: top;\n",
       "    }\n",
       "\n",
       "    .dataframe thead th {\n",
       "        text-align: right;\n",
       "    }\n",
       "</style>\n",
       "<table border=\"1\" class=\"dataframe\">\n",
       "  <thead>\n",
       "    <tr style=\"text-align: right;\">\n",
       "      <th></th>\n",
       "      <th>Respondent</th>\n",
       "      <th>MainBranch</th>\n",
       "      <th>Hobbyist</th>\n",
       "      <th>Age</th>\n",
       "      <th>Age1stCode</th>\n",
       "      <th>CompFreq</th>\n",
       "      <th>CompTotal</th>\n",
       "      <th>ConvertedComp</th>\n",
       "      <th>Country</th>\n",
       "      <th>CurrencyDesc</th>\n",
       "      <th>...</th>\n",
       "      <th>SurveyEase</th>\n",
       "      <th>SurveyLength</th>\n",
       "      <th>Trans</th>\n",
       "      <th>UndergradMajor</th>\n",
       "      <th>WebframeDesireNextYear</th>\n",
       "      <th>WebframeWorkedWith</th>\n",
       "      <th>WelcomeChange</th>\n",
       "      <th>WorkWeekHrs</th>\n",
       "      <th>YearsCode</th>\n",
       "      <th>YearsCodePro</th>\n",
       "    </tr>\n",
       "  </thead>\n",
       "  <tbody>\n",
       "    <tr>\n",
       "      <th>0</th>\n",
       "      <td>1</td>\n",
       "      <td>I am a developer by profession</td>\n",
       "      <td>Yes</td>\n",
       "      <td>NaN</td>\n",
       "      <td>13</td>\n",
       "      <td>Monthly</td>\n",
       "      <td>NaN</td>\n",
       "      <td>NaN</td>\n",
       "      <td>Germany</td>\n",
       "      <td>European Euro</td>\n",
       "      <td>...</td>\n",
       "      <td>Neither easy nor difficult</td>\n",
       "      <td>Appropriate in length</td>\n",
       "      <td>No</td>\n",
       "      <td>Computer science, computer engineering, or sof...</td>\n",
       "      <td>ASP.NET Core</td>\n",
       "      <td>ASP.NET;ASP.NET Core</td>\n",
       "      <td>Just as welcome now as I felt last year</td>\n",
       "      <td>50.0</td>\n",
       "      <td>36</td>\n",
       "      <td>27</td>\n",
       "    </tr>\n",
       "    <tr>\n",
       "      <th>1</th>\n",
       "      <td>2</td>\n",
       "      <td>I am a developer by profession</td>\n",
       "      <td>No</td>\n",
       "      <td>NaN</td>\n",
       "      <td>19</td>\n",
       "      <td>NaN</td>\n",
       "      <td>NaN</td>\n",
       "      <td>NaN</td>\n",
       "      <td>United Kingdom</td>\n",
       "      <td>Pound sterling</td>\n",
       "      <td>...</td>\n",
       "      <td>NaN</td>\n",
       "      <td>NaN</td>\n",
       "      <td>NaN</td>\n",
       "      <td>Computer science, computer engineering, or sof...</td>\n",
       "      <td>NaN</td>\n",
       "      <td>NaN</td>\n",
       "      <td>Somewhat more welcome now than last year</td>\n",
       "      <td>NaN</td>\n",
       "      <td>7</td>\n",
       "      <td>4</td>\n",
       "    </tr>\n",
       "    <tr>\n",
       "      <th>2</th>\n",
       "      <td>3</td>\n",
       "      <td>I code primarily as a hobby</td>\n",
       "      <td>Yes</td>\n",
       "      <td>NaN</td>\n",
       "      <td>15</td>\n",
       "      <td>NaN</td>\n",
       "      <td>NaN</td>\n",
       "      <td>NaN</td>\n",
       "      <td>Russian Federation</td>\n",
       "      <td>NaN</td>\n",
       "      <td>...</td>\n",
       "      <td>Neither easy nor difficult</td>\n",
       "      <td>Appropriate in length</td>\n",
       "      <td>NaN</td>\n",
       "      <td>NaN</td>\n",
       "      <td>NaN</td>\n",
       "      <td>NaN</td>\n",
       "      <td>Somewhat more welcome now than last year</td>\n",
       "      <td>NaN</td>\n",
       "      <td>4</td>\n",
       "      <td>NaN</td>\n",
       "    </tr>\n",
       "    <tr>\n",
       "      <th>3</th>\n",
       "      <td>4</td>\n",
       "      <td>I am a developer by profession</td>\n",
       "      <td>Yes</td>\n",
       "      <td>25.0</td>\n",
       "      <td>18</td>\n",
       "      <td>NaN</td>\n",
       "      <td>NaN</td>\n",
       "      <td>NaN</td>\n",
       "      <td>Albania</td>\n",
       "      <td>Albanian lek</td>\n",
       "      <td>...</td>\n",
       "      <td>NaN</td>\n",
       "      <td>NaN</td>\n",
       "      <td>No</td>\n",
       "      <td>Computer science, computer engineering, or sof...</td>\n",
       "      <td>NaN</td>\n",
       "      <td>NaN</td>\n",
       "      <td>Somewhat less welcome now than last year</td>\n",
       "      <td>40.0</td>\n",
       "      <td>7</td>\n",
       "      <td>4</td>\n",
       "    </tr>\n",
       "    <tr>\n",
       "      <th>4</th>\n",
       "      <td>5</td>\n",
       "      <td>I used to be a developer by profession, but no...</td>\n",
       "      <td>Yes</td>\n",
       "      <td>31.0</td>\n",
       "      <td>16</td>\n",
       "      <td>NaN</td>\n",
       "      <td>NaN</td>\n",
       "      <td>NaN</td>\n",
       "      <td>United States</td>\n",
       "      <td>NaN</td>\n",
       "      <td>...</td>\n",
       "      <td>Easy</td>\n",
       "      <td>Too short</td>\n",
       "      <td>No</td>\n",
       "      <td>Computer science, computer engineering, or sof...</td>\n",
       "      <td>Django;Ruby on Rails</td>\n",
       "      <td>Ruby on Rails</td>\n",
       "      <td>Just as welcome now as I felt last year</td>\n",
       "      <td>NaN</td>\n",
       "      <td>15</td>\n",
       "      <td>8</td>\n",
       "    </tr>\n",
       "  </tbody>\n",
       "</table>\n",
       "<p>5 rows × 61 columns</p>\n",
       "</div>"
      ],
      "text/plain": [
       "   Respondent                                         MainBranch Hobbyist  \\\n",
       "0           1                     I am a developer by profession      Yes   \n",
       "1           2                     I am a developer by profession       No   \n",
       "2           3                        I code primarily as a hobby      Yes   \n",
       "3           4                     I am a developer by profession      Yes   \n",
       "4           5  I used to be a developer by profession, but no...      Yes   \n",
       "\n",
       "    Age Age1stCode CompFreq  CompTotal  ConvertedComp             Country  \\\n",
       "0   NaN         13  Monthly        NaN            NaN             Germany   \n",
       "1   NaN         19      NaN        NaN            NaN      United Kingdom   \n",
       "2   NaN         15      NaN        NaN            NaN  Russian Federation   \n",
       "3  25.0         18      NaN        NaN            NaN             Albania   \n",
       "4  31.0         16      NaN        NaN            NaN       United States   \n",
       "\n",
       "     CurrencyDesc  ...                  SurveyEase           SurveyLength  \\\n",
       "0   European Euro  ...  Neither easy nor difficult  Appropriate in length   \n",
       "1  Pound sterling  ...                         NaN                    NaN   \n",
       "2             NaN  ...  Neither easy nor difficult  Appropriate in length   \n",
       "3    Albanian lek  ...                         NaN                    NaN   \n",
       "4             NaN  ...                        Easy              Too short   \n",
       "\n",
       "  Trans                                     UndergradMajor  \\\n",
       "0    No  Computer science, computer engineering, or sof...   \n",
       "1   NaN  Computer science, computer engineering, or sof...   \n",
       "2   NaN                                                NaN   \n",
       "3    No  Computer science, computer engineering, or sof...   \n",
       "4    No  Computer science, computer engineering, or sof...   \n",
       "\n",
       "  WebframeDesireNextYear    WebframeWorkedWith  \\\n",
       "0           ASP.NET Core  ASP.NET;ASP.NET Core   \n",
       "1                    NaN                   NaN   \n",
       "2                    NaN                   NaN   \n",
       "3                    NaN                   NaN   \n",
       "4   Django;Ruby on Rails         Ruby on Rails   \n",
       "\n",
       "                              WelcomeChange WorkWeekHrs YearsCode YearsCodePro  \n",
       "0   Just as welcome now as I felt last year        50.0        36           27  \n",
       "1  Somewhat more welcome now than last year         NaN         7            4  \n",
       "2  Somewhat more welcome now than last year         NaN         4          NaN  \n",
       "3  Somewhat less welcome now than last year        40.0         7            4  \n",
       "4   Just as welcome now as I felt last year         NaN        15            8  \n",
       "\n",
       "[5 rows x 61 columns]"
      ]
     },
     "execution_count": 6,
     "metadata": {},
     "output_type": "execute_result"
    }
   ],
   "source": [
    "df.head()"
   ]
  },
  {
   "cell_type": "code",
   "execution_count": 7,
   "metadata": {},
   "outputs": [
    {
     "data": {
      "text/plain": [
       "64461"
      ]
     },
     "execution_count": 7,
     "metadata": {},
     "output_type": "execute_result"
    }
   ],
   "source": [
    "num_rows = df.shape[0]\n",
    "num_rows"
   ]
  },
  {
   "cell_type": "code",
   "execution_count": 8,
   "metadata": {},
   "outputs": [
    {
     "data": {
      "text/plain": [
       "61"
      ]
     },
     "execution_count": 8,
     "metadata": {},
     "output_type": "execute_result"
    }
   ],
   "source": [
    "num_cols = df.shape[1]\n",
    "num_cols"
   ]
  },
  {
   "cell_type": "code",
   "execution_count": 9,
   "metadata": {},
   "outputs": [
    {
     "data": {
      "text/plain": [
       "{'Respondent'}"
      ]
     },
     "execution_count": 9,
     "metadata": {},
     "output_type": "execute_result"
    }
   ],
   "source": [
    "no_null_cols = set(df.columns[df.isnull().mean() == 0])\n",
    "no_null_cols"
   ]
  },
  {
   "cell_type": "code",
   "execution_count": 10,
   "metadata": {},
   "outputs": [
    {
     "data": {
      "text/html": [
       "<div>\n",
       "<style scoped>\n",
       "    .dataframe tbody tr th:only-of-type {\n",
       "        vertical-align: middle;\n",
       "    }\n",
       "\n",
       "    .dataframe tbody tr th {\n",
       "        vertical-align: top;\n",
       "    }\n",
       "\n",
       "    .dataframe thead th {\n",
       "        text-align: right;\n",
       "    }\n",
       "</style>\n",
       "<table border=\"1\" class=\"dataframe\">\n",
       "  <thead>\n",
       "    <tr style=\"text-align: right;\">\n",
       "      <th></th>\n",
       "      <th>Respondent</th>\n",
       "      <th>Age</th>\n",
       "      <th>CompTotal</th>\n",
       "      <th>ConvertedComp</th>\n",
       "      <th>WorkWeekHrs</th>\n",
       "    </tr>\n",
       "  </thead>\n",
       "  <tbody>\n",
       "    <tr>\n",
       "      <th>count</th>\n",
       "      <td>64461.000000</td>\n",
       "      <td>45446.000000</td>\n",
       "      <td>3.482600e+04</td>\n",
       "      <td>3.475600e+04</td>\n",
       "      <td>41151.000000</td>\n",
       "    </tr>\n",
       "    <tr>\n",
       "      <th>mean</th>\n",
       "      <td>32554.079738</td>\n",
       "      <td>30.834111</td>\n",
       "      <td>3.190464e+242</td>\n",
       "      <td>1.037561e+05</td>\n",
       "      <td>40.782174</td>\n",
       "    </tr>\n",
       "    <tr>\n",
       "      <th>std</th>\n",
       "      <td>18967.442360</td>\n",
       "      <td>9.585392</td>\n",
       "      <td>inf</td>\n",
       "      <td>2.268853e+05</td>\n",
       "      <td>17.816383</td>\n",
       "    </tr>\n",
       "    <tr>\n",
       "      <th>min</th>\n",
       "      <td>1.000000</td>\n",
       "      <td>1.000000</td>\n",
       "      <td>0.000000e+00</td>\n",
       "      <td>0.000000e+00</td>\n",
       "      <td>1.000000</td>\n",
       "    </tr>\n",
       "    <tr>\n",
       "      <th>25%</th>\n",
       "      <td>16116.000000</td>\n",
       "      <td>24.000000</td>\n",
       "      <td>2.000000e+04</td>\n",
       "      <td>2.464800e+04</td>\n",
       "      <td>40.000000</td>\n",
       "    </tr>\n",
       "    <tr>\n",
       "      <th>50%</th>\n",
       "      <td>32231.000000</td>\n",
       "      <td>29.000000</td>\n",
       "      <td>6.300000e+04</td>\n",
       "      <td>5.404900e+04</td>\n",
       "      <td>40.000000</td>\n",
       "    </tr>\n",
       "    <tr>\n",
       "      <th>75%</th>\n",
       "      <td>49142.000000</td>\n",
       "      <td>35.000000</td>\n",
       "      <td>1.250000e+05</td>\n",
       "      <td>9.500000e+04</td>\n",
       "      <td>44.000000</td>\n",
       "    </tr>\n",
       "    <tr>\n",
       "      <th>max</th>\n",
       "      <td>65639.000000</td>\n",
       "      <td>279.000000</td>\n",
       "      <td>1.111111e+247</td>\n",
       "      <td>2.000000e+06</td>\n",
       "      <td>475.000000</td>\n",
       "    </tr>\n",
       "  </tbody>\n",
       "</table>\n",
       "</div>"
      ],
      "text/plain": [
       "         Respondent           Age      CompTotal  ConvertedComp   WorkWeekHrs\n",
       "count  64461.000000  45446.000000   3.482600e+04   3.475600e+04  41151.000000\n",
       "mean   32554.079738     30.834111  3.190464e+242   1.037561e+05     40.782174\n",
       "std    18967.442360      9.585392            inf   2.268853e+05     17.816383\n",
       "min        1.000000      1.000000   0.000000e+00   0.000000e+00      1.000000\n",
       "25%    16116.000000     24.000000   2.000000e+04   2.464800e+04     40.000000\n",
       "50%    32231.000000     29.000000   6.300000e+04   5.404900e+04     40.000000\n",
       "75%    49142.000000     35.000000   1.250000e+05   9.500000e+04     44.000000\n",
       "max    65639.000000    279.000000  1.111111e+247   2.000000e+06    475.000000"
      ]
     },
     "execution_count": 10,
     "metadata": {},
     "output_type": "execute_result"
    }
   ],
   "source": [
    "df.describe()"
   ]
  },
  {
   "cell_type": "code",
   "execution_count": 11,
   "metadata": {},
   "outputs": [
    {
     "data": {
      "text/plain": [
       "54049.0"
      ]
     },
     "execution_count": 11,
     "metadata": {},
     "output_type": "execute_result"
    }
   ],
   "source": [
    "df['ConvertedComp'].median() # this will be used to calculate the average salary, which is the mean"
   ]
  },
  {
   "cell_type": "code",
   "execution_count": 12,
   "metadata": {},
   "outputs": [
    {
     "data": {
      "text/plain": [
       "array(['I am a developer by profession', 'I code primarily as a hobby',\n",
       "       'I used to be a developer by profession, but no longer am',\n",
       "       'I am not primarily a developer, but I write code sometimes as part of my work',\n",
       "       'I am a student who is learning to code', nan], dtype=object)"
      ]
     },
     "execution_count": 12,
     "metadata": {},
     "output_type": "execute_result"
    }
   ],
   "source": [
    "prof_devel = df['MainBranch'].unique()\n",
    "prof_devel"
   ]
  },
  {
   "cell_type": "markdown",
   "metadata": {},
   "source": [
    "### 1  What kind of developers are you?\n",
    "\n",
    "\n",
    "\n",
    "\n",
    "\n"
   ]
  },
  {
   "cell_type": "code",
   "execution_count": 13,
   "metadata": {},
   "outputs": [
    {
     "data": {
      "text/plain": [
       "I am a developer by profession                                                   47193\n",
       "I am a student who is learning to code                                            7970\n",
       "I am not primarily a developer, but I write code sometimes as part of my work     5502\n",
       "I code primarily as a hobby                                                       2314\n",
       "I used to be a developer by profession, but no longer am                          1183\n",
       "Name: MainBranch, dtype: int64"
      ]
     },
     "execution_count": 13,
     "metadata": {},
     "output_type": "execute_result"
    }
   ],
   "source": [
    "prof_status = df.MainBranch.value_counts() # check for the different categories of developers\n",
    "prof_status"
   ]
  },
  {
   "cell_type": "code",
   "execution_count": 14,
   "metadata": {},
   "outputs": [
    {
     "data": {
      "image/png": "[encoded data removed]",
      "text/plain": [
       "<Figure size 432x288 with 1 Axes>"
      ]
     },
     "metadata": {
      "needs_background": "light"
     },
     "output_type": "display_data"
    }
   ],
   "source": [
    "(prof_status/df.shape[0]).plot(kind=\"bar\");\n",
    "plt.title(\"What kind of developer are you?\");"
   ]
  },
  {
   "cell_type": "code",
   "execution_count": 15,
   "metadata": {},
   "outputs": [
    {
     "data": {
      "text/plain": [
       "Text(0.5, 1.0, 'Different countries with number of developers')"
      ]
     },
     "execution_count": 15,
     "metadata": {},
     "output_type": "execute_result"
    },
    {
     "data": {
      "image/png": "[encoded data removed]",
      "text/plain": [
       "<Figure size 432x288 with 1 Axes>"
      ]
     },
     "metadata": {
      "needs_background": "light"
     },
     "output_type": "display_data"
    }
   ],
   "source": [
    "num_country = df.Country.value_counts()\n",
    "\n",
    "(num_country[:20]/df.shape[0]).plot(kind='bar')\n",
    "plt.title('Different countries with number of developers')"
   ]
  },
  {
   "cell_type": "code",
   "execution_count": 16,
   "metadata": {},
   "outputs": [
    {
     "data": {
      "text/plain": [
       "Text(0.5, 1.0, 'Years you have been coding')"
      ]
     },
     "execution_count": 16,
     "metadata": {},
     "output_type": "execute_result"
    },
    {
     "data": {
      "image/png": "[encoded data removed]",
      "text/plain": [
       "<Figure size 432x288 with 1 Axes>"
      ]
     },
     "metadata": {
      "needs_background": "light"
     },
     "output_type": "display_data"
    }
   ],
   "source": [
    "num_yrcode = df.YearsCode.value_counts()\n",
    "(num_yrcode[:20]/df.shape[0]).plot(kind='bar')\n",
    "plt.title('Years you have been coding')"
   ]
  },
  {
   "cell_type": "code",
   "execution_count": 17,
   "metadata": {},
   "outputs": [
    {
     "name": "stdout",
     "output_type": "stream",
     "text": [
      "<class 'pandas.core.frame.DataFrame'>\n",
      "RangeIndex: 64461 entries, 0 to 64460\n",
      "Data columns (total 61 columns):\n",
      " #   Column                        Non-Null Count  Dtype  \n",
      "---  ------                        --------------  -----  \n",
      " 0   Respondent                    64461 non-null  int64  \n",
      " 1   MainBranch                    64162 non-null  object \n",
      " 2   Hobbyist                      64416 non-null  object \n",
      " 3   Age                           45446 non-null  float64\n",
      " 4   Age1stCode                    57900 non-null  object \n",
      " 5   CompFreq                      40069 non-null  object \n",
      " 6   CompTotal                     34826 non-null  float64\n",
      " 7   ConvertedComp                 34756 non-null  float64\n",
      " 8   Country                       64072 non-null  object \n",
      " 9   CurrencyDesc                  45472 non-null  object \n",
      " 10  CurrencySymbol                45472 non-null  object \n",
      " 11  DatabaseDesireNextYear        44070 non-null  object \n",
      " 12  DatabaseWorkedWith            49537 non-null  object \n",
      " 13  DevType                       49370 non-null  object \n",
      " 14  EdLevel                       57431 non-null  object \n",
      " 15  Employment                    63854 non-null  object \n",
      " 16  Ethnicity                     45948 non-null  object \n",
      " 17  Gender                        50557 non-null  object \n",
      " 18  JobFactors                    49349 non-null  object \n",
      " 19  JobSat                        45194 non-null  object \n",
      " 20  JobSeek                       51727 non-null  object \n",
      " 21  LanguageDesireNextYear        54113 non-null  object \n",
      " 22  LanguageWorkedWith            57378 non-null  object \n",
      " 23  MiscTechDesireNextYear        42379 non-null  object \n",
      " 24  MiscTechWorkedWith            40314 non-null  object \n",
      " 25  NEWCollabToolsDesireNextYear  47287 non-null  object \n",
      " 26  NEWCollabToolsWorkedWith      52883 non-null  object \n",
      " 27  NEWDevOps                     42686 non-null  object \n",
      " 28  NEWDevOpsImpt                 41732 non-null  object \n",
      " 29  NEWEdImpt                     48465 non-null  object \n",
      " 30  NEWJobHunt                    42286 non-null  object \n",
      " 31  NEWJobHuntResearch            41022 non-null  object \n",
      " 32  NEWLearn                      56156 non-null  object \n",
      " 33  NEWOffTopic                   50804 non-null  object \n",
      " 34  NEWOnboardGood                42623 non-null  object \n",
      " 35  NEWOtherComms                 57205 non-null  object \n",
      " 36  NEWOvertime                   43231 non-null  object \n",
      " 37  NEWPurchaseResearch           37321 non-null  object \n",
      " 38  NEWPurpleLink                 54803 non-null  object \n",
      " 39  NEWSOSites                    58275 non-null  object \n",
      " 40  NEWStuck                      54983 non-null  object \n",
      " 41  OpSys                         56228 non-null  object \n",
      " 42  OrgSize                       44334 non-null  object \n",
      " 43  PlatformDesireNextYear        50605 non-null  object \n",
      " 44  PlatformWorkedWith            53843 non-null  object \n",
      " 45  PurchaseWhat                  39364 non-null  object \n",
      " 46  Sexuality                     43992 non-null  object \n",
      " 47  SOAccount                     56805 non-null  object \n",
      " 48  SOComm                        56476 non-null  object \n",
      " 49  SOPartFreq                    46792 non-null  object \n",
      " 50  SOVisitFreq                   56970 non-null  object \n",
      " 51  SurveyEase                    51802 non-null  object \n",
      " 52  SurveyLength                  51701 non-null  object \n",
      " 53  Trans                         49345 non-null  object \n",
      " 54  UndergradMajor                50995 non-null  object \n",
      " 55  WebframeDesireNextYear        40024 non-null  object \n",
      " 56  WebframeWorkedWith            42279 non-null  object \n",
      " 57  WelcomeChange                 52683 non-null  object \n",
      " 58  WorkWeekHrs                   41151 non-null  float64\n",
      " 59  YearsCode                     57684 non-null  object \n",
      " 60  YearsCodePro                  46349 non-null  object \n",
      "dtypes: float64(4), int64(1), object(56)\n",
      "memory usage: 30.0+ MB\n"
     ]
    }
   ],
   "source": [
    "df.info()"
   ]
  },
  {
   "cell_type": "code",
   "execution_count": 18,
   "metadata": {},
   "outputs": [
    {
     "data": {
      "text/plain": [
       "I have little or no influence       16987\n",
       "I have some influence               15379\n",
       "I have a great deal of influence     6998\n",
       "Name: PurchaseWhat, dtype: int64"
      ]
     },
     "execution_count": 18,
     "metadata": {},
     "output_type": "execute_result"
    }
   ],
   "source": [
    "df.PurchaseWhat.value_counts()"
   ]
  },
  {
   "cell_type": "code",
   "execution_count": 19,
   "metadata": {},
   "outputs": [
    {
     "data": {
      "text/plain": [
       "array([nan, 'I have little or no influence',\n",
       "       'I have a great deal of influence', 'I have some influence'],\n",
       "      dtype=object)"
      ]
     },
     "execution_count": 19,
     "metadata": {},
     "output_type": "execute_result"
    }
   ],
   "source": [
    "df.PurchaseWhat.unique() # this could be used to test for the influence of a recommendation or online survey"
   ]
  },
  {
   "cell_type": "code",
   "execution_count": 20,
   "metadata": {},
   "outputs": [
    {
     "data": {
      "text/plain": [
       "Start a free trial;Ask developers I know/work with;Visit developer communities like Stack Overflow                                                                                            7349\n",
       "Start a free trial;Ask developers I know/work with                                                                                                                                            4587\n",
       "Start a free trial                                                                                                                                                                            3467\n",
       "Start a free trial;Ask developers I know/work with;Visit developer communities like Stack Overflow;Read ratings or reviews on third party sites like G2Crowd                                  3181\n",
       "Start a free trial;Visit developer communities like Stack Overflow                                                                                                                            2775\n",
       "                                                                                                                                                                                              ... \n",
       "Visit developer communities like Stack Overflow;Read ratings or reviews on third party sites like G2Crowd;Research companies that have emailed me                                               12\n",
       "Ask developers I know/work with;Read ratings or reviews on third party sites like G2Crowd;Research companies that have advertised on sites I visit;Research companies that have emailed me       9\n",
       "Read ratings or reviews on third party sites like G2Crowd;Research companies that have emailed me                                                                                                9\n",
       "Read ratings or reviews on third party sites like G2Crowd;Research companies that have advertised on sites I visit;Research companies that have emailed me                                       7\n",
       "Research companies that have advertised on sites I visit;Research companies that have emailed me                                                                                                 6\n",
       "Name: NEWPurchaseResearch, Length: 63, dtype: int64"
      ]
     },
     "execution_count": 20,
     "metadata": {},
     "output_type": "execute_result"
    }
   ],
   "source": [
    "df.NEWPurchaseResearch.value_counts()"
   ]
  },
  {
   "cell_type": "code",
   "execution_count": 21,
   "metadata": {},
   "outputs": [
    {
     "data": {
      "text/plain": [
       "Text(0.5, 1.0, 'Research about purchases')"
      ]
     },
     "execution_count": 21,
     "metadata": {},
     "output_type": "execute_result"
    },
    {
     "data": {
      "image/png": "[encoded data removed]",
      "text/plain": [
       "<Figure size 432x288 with 1 Axes>"
      ]
     },
     "metadata": {
      "needs_background": "light"
     },
     "output_type": "display_data"
    }
   ],
   "source": [
    "purch_stat = df.NEWPurchaseResearch.value_counts()\n",
    "(purch_stat[:30]/df.shape[0]).plot(kind='bar')\n",
    "plt.title('Research about purchases')"
   ]
  },
  {
   "cell_type": "code",
   "execution_count": 22,
   "metadata": {},
   "outputs": [
    {
     "data": {
      "text/plain": [
       "array(['Start a free trial;Ask developers I know/work with', nan,\n",
       "       'Start a free trial;Ask developers I know/work with;Visit developer communities like Stack Overflow;Read ratings or reviews on third party sites like G2Crowd;Research companies that have advertised on sites I visit',\n",
       "       'Ask developers I know/work with;Read ratings or reviews on third party sites like G2Crowd',\n",
       "       'Start a free trial;Ask developers I know/work with;Visit developer communities like Stack Overflow;Read ratings or reviews on third party sites like G2Crowd',\n",
       "       'Start a free trial',\n",
       "       'Start a free trial;Ask developers I know/work with;Visit developer communities like Stack Overflow',\n",
       "       'Ask developers I know/work with',\n",
       "       'Ask developers I know/work with;Visit developer communities like Stack Overflow',\n",
       "       'Research companies that have advertised on sites I visit',\n",
       "       'Visit developer communities like Stack Overflow;Read ratings or reviews on third party sites like G2Crowd',\n",
       "       'Start a free trial;Visit developer communities like Stack Overflow',\n",
       "       'Start a free trial;Visit developer communities like Stack Overflow;Read ratings or reviews on third party sites like G2Crowd',\n",
       "       'Start a free trial;Visit developer communities like Stack Overflow;Research companies that have advertised on sites I visit',\n",
       "       'Read ratings or reviews on third party sites like G2Crowd',\n",
       "       'Start a free trial;Ask developers I know/work with;Research companies that have advertised on sites I visit',\n",
       "       'Start a free trial;Ask developers I know/work with;Read ratings or reviews on third party sites like G2Crowd',\n",
       "       'Start a free trial;Ask developers I know/work with;Visit developer communities like Stack Overflow;Read ratings or reviews on third party sites like G2Crowd;Research companies that have advertised on sites I visit;Research companies that have emailed me',\n",
       "       'Start a free trial;Ask developers I know/work with;Read ratings or reviews on third party sites like G2Crowd;Research companies that have advertised on sites I visit',\n",
       "       'Start a free trial;Read ratings or reviews on third party sites like G2Crowd',\n",
       "       'Start a free trial;Visit developer communities like Stack Overflow;Read ratings or reviews on third party sites like G2Crowd;Research companies that have advertised on sites I visit',\n",
       "       'Start a free trial;Ask developers I know/work with;Visit developer communities like Stack Overflow;Research companies that have advertised on sites I visit',\n",
       "       'Ask developers I know/work with;Visit developer communities like Stack Overflow;Read ratings or reviews on third party sites like G2Crowd',\n",
       "       'Start a free trial;Ask developers I know/work with;Visit developer communities like Stack Overflow;Research companies that have emailed me',\n",
       "       'Ask developers I know/work with;Visit developer communities like Stack Overflow;Research companies that have advertised on sites I visit',\n",
       "       'Ask developers I know/work with;Read ratings or reviews on third party sites like G2Crowd;Research companies that have advertised on sites I visit',\n",
       "       'Ask developers I know/work with;Visit developer communities like Stack Overflow;Research companies that have advertised on sites I visit;Research companies that have emailed me',\n",
       "       'Start a free trial;Research companies that have advertised on sites I visit;Research companies that have emailed me',\n",
       "       'Start a free trial;Ask developers I know/work with;Research companies that have advertised on sites I visit;Research companies that have emailed me',\n",
       "       'Ask developers I know/work with;Visit developer communities like Stack Overflow;Read ratings or reviews on third party sites like G2Crowd;Research companies that have advertised on sites I visit',\n",
       "       'Start a free trial;Ask developers I know/work with;Visit developer communities like Stack Overflow;Research companies that have advertised on sites I visit;Research companies that have emailed me',\n",
       "       'Start a free trial;Ask developers I know/work with;Visit developer communities like Stack Overflow;Read ratings or reviews on third party sites like G2Crowd;Research companies that have emailed me',\n",
       "       'Visit developer communities like Stack Overflow',\n",
       "       'Start a free trial;Ask developers I know/work with;Research companies that have emailed me',\n",
       "       'Ask developers I know/work with;Visit developer communities like Stack Overflow;Research companies that have emailed me',\n",
       "       'Start a free trial;Ask developers I know/work with;Read ratings or reviews on third party sites like G2Crowd;Research companies that have advertised on sites I visit;Research companies that have emailed me',\n",
       "       'Ask developers I know/work with;Read ratings or reviews on third party sites like G2Crowd;Research companies that have advertised on sites I visit;Research companies that have emailed me',\n",
       "       'Start a free trial;Research companies that have advertised on sites I visit',\n",
       "       'Visit developer communities like Stack Overflow;Read ratings or reviews on third party sites like G2Crowd;Research companies that have advertised on sites I visit',\n",
       "       'Start a free trial;Visit developer communities like Stack Overflow;Read ratings or reviews on third party sites like G2Crowd;Research companies that have emailed me',\n",
       "       'Ask developers I know/work with;Research companies that have advertised on sites I visit',\n",
       "       'Start a free trial;Read ratings or reviews on third party sites like G2Crowd;Research companies that have advertised on sites I visit',\n",
       "       'Visit developer communities like Stack Overflow;Read ratings or reviews on third party sites like G2Crowd;Research companies that have advertised on sites I visit;Research companies that have emailed me',\n",
       "       'Start a free trial;Visit developer communities like Stack Overflow;Research companies that have emailed me',\n",
       "       'Ask developers I know/work with;Visit developer communities like Stack Overflow;Read ratings or reviews on third party sites like G2Crowd;Research companies that have advertised on sites I visit;Research companies that have emailed me',\n",
       "       'Ask developers I know/work with;Read ratings or reviews on third party sites like G2Crowd;Research companies that have emailed me',\n",
       "       'Start a free trial;Research companies that have emailed me',\n",
       "       'Read ratings or reviews on third party sites like G2Crowd;Research companies that have advertised on sites I visit',\n",
       "       'Start a free trial;Ask developers I know/work with;Read ratings or reviews on third party sites like G2Crowd;Research companies that have emailed me',\n",
       "       'Visit developer communities like Stack Overflow;Research companies that have advertised on sites I visit',\n",
       "       'Visit developer communities like Stack Overflow;Research companies that have advertised on sites I visit;Research companies that have emailed me',\n",
       "       'Ask developers I know/work with;Research companies that have advertised on sites I visit;Research companies that have emailed me',\n",
       "       'Start a free trial;Read ratings or reviews on third party sites like G2Crowd;Research companies that have advertised on sites I visit;Research companies that have emailed me',\n",
       "       'Start a free trial;Visit developer communities like Stack Overflow;Research companies that have advertised on sites I visit;Research companies that have emailed me',\n",
       "       'Start a free trial;Visit developer communities like Stack Overflow;Read ratings or reviews on third party sites like G2Crowd;Research companies that have advertised on sites I visit;Research companies that have emailed me',\n",
       "       'Research companies that have emailed me',\n",
       "       'Ask developers I know/work with;Visit developer communities like Stack Overflow;Read ratings or reviews on third party sites like G2Crowd;Research companies that have emailed me',\n",
       "       'Ask developers I know/work with;Research companies that have emailed me',\n",
       "       'Start a free trial;Read ratings or reviews on third party sites like G2Crowd;Research companies that have emailed me',\n",
       "       'Research companies that have advertised on sites I visit;Research companies that have emailed me',\n",
       "       'Read ratings or reviews on third party sites like G2Crowd;Research companies that have advertised on sites I visit;Research companies that have emailed me',\n",
       "       'Visit developer communities like Stack Overflow;Research companies that have emailed me',\n",
       "       'Visit developer communities like Stack Overflow;Read ratings or reviews on third party sites like G2Crowd;Research companies that have emailed me',\n",
       "       'Read ratings or reviews on third party sites like G2Crowd;Research companies that have emailed me'],\n",
       "      dtype=object)"
      ]
     },
     "execution_count": 22,
     "metadata": {},
     "output_type": "execute_result"
    }
   ],
   "source": [
    "df.NEWPurchaseResearch.unique()"
   ]
  },
  {
   "cell_type": "code",
   "execution_count": 23,
   "metadata": {},
   "outputs": [
    {
     "data": {
      "text/plain": [
       "Employed full-time                                      45270\n",
       "Student                                                  7787\n",
       "Independent contractor, freelancer, or self-employed     5672\n",
       "Not employed, but looking for work                       2343\n",
       "Employed part-time                                       2217\n",
       "Not employed, and not looking for work                    322\n",
       "Retired                                                   243\n",
       "Name: Employment, dtype: int64"
      ]
     },
     "execution_count": 23,
     "metadata": {},
     "output_type": "execute_result"
    }
   ],
   "source": [
    "df.Employment.value_counts()"
   ]
  },
  {
   "cell_type": "code",
   "execution_count": 24,
   "metadata": {},
   "outputs": [],
   "source": [
    "#pd.DataFrame(df.query(\"MainBranch == 'Professional developer' and (Gender == 'Male' or Gender == 'Female')\").groupby(['Gender', 'MainBranch']).mean()['CompTotal'])"
   ]
  },
  {
   "cell_type": "code",
   "execution_count": 25,
   "metadata": {},
   "outputs": [
    {
     "data": {
      "image/png": "[encoded data removed]",
      "text/plain": [
       "<Figure size 432x288 with 1 Axes>"
      ]
     },
     "metadata": {
      "needs_background": "light"
     },
     "output_type": "display_data"
    }
   ],
   "source": [
    "educat = df.EdLevel.value_counts()\n",
    "(educat/df.shape[0]).plot(kind=\"bar\");\n",
    "plt.title(\"Your Education Level\");"
   ]
  },
  {
   "cell_type": "markdown",
   "metadata": {},
   "source": [
    "### 2. Number of developers/students who seek help about the online classes?"
   ]
  },
  {
   "cell_type": "code",
   "execution_count": 26,
   "metadata": {},
   "outputs": [
    {
     "data": {
      "text/plain": [
       "Easy                          34626\n",
       "Neither easy nor difficult    16476\n",
       "Difficult                       700\n",
       "Name: SurveyEase, dtype: int64"
      ]
     },
     "execution_count": 26,
     "metadata": {},
     "output_type": "execute_result"
    }
   ],
   "source": [
    "num_stud = df.SurveyEase.value_counts() # number of students who may get helps from the online survey submission\n",
    "num_stud"
   ]
  },
  {
   "cell_type": "code",
   "execution_count": 27,
   "metadata": {},
   "outputs": [
    {
     "data": {
      "text/plain": [
       "SurveyEase\n",
       "Difficult                     28956.042857\n",
       "Easy                          29054.869607\n",
       "Neither easy nor difficult    29343.751032\n",
       "Name: Respondent, dtype: float64"
      ]
     },
     "execution_count": 27,
     "metadata": {},
     "output_type": "execute_result"
    }
   ],
   "source": [
    "# checking the classification of the survey report among the respondent.\n",
    "# the result below really gives us an insight about the survey.\n",
    "df.groupby(['SurveyEase']).mean()['Respondent']"
   ]
  },
  {
   "cell_type": "markdown",
   "metadata": {},
   "source": [
    "### Does the survey suggest anything"
   ]
  },
  {
   "cell_type": "code",
   "execution_count": 28,
   "metadata": {},
   "outputs": [
    {
     "data": {
      "text/plain": [
       "ConvertedComp    1.000000\n",
       "Age              0.107002\n",
       "WorkWeekHrs      0.032612\n",
       "CompTotal        0.000000\n",
       "Respondent      -0.005805\n",
       "Name: ConvertedComp, dtype: float64"
      ]
     },
     "execution_count": 28,
     "metadata": {},
     "output_type": "execute_result"
    }
   ],
   "source": [
    "# let's look at the correlation matrix\n",
    "corr_matrix = df.corr()\n",
    "corr_matrix['ConvertedComp'].sort_values(ascending=False)\n"
   ]
  },
  {
   "cell_type": "code",
   "execution_count": 29,
   "metadata": {},
   "outputs": [
    {
     "data": {
      "text/plain": [
       "SurveyEase\n",
       "Difficult                      73534.285223\n",
       "Easy                          108310.958586\n",
       "Neither easy nor difficult     93668.088655\n",
       "Name: ConvertedComp, dtype: float64"
      ]
     },
     "execution_count": 29,
     "metadata": {},
     "output_type": "execute_result"
    }
   ],
   "source": [
    "df.groupby(['SurveyEase']).mean() ['ConvertedComp']"
   ]
  },
  {
   "cell_type": "markdown",
   "metadata": {},
   "source": [
    "### Find each employment level salary?"
   ]
  },
  {
   "cell_type": "code",
   "execution_count": 30,
   "metadata": {},
   "outputs": [
    {
     "data": {
      "text/plain": [
       "Employment\n",
       "Employed full-time                                      107402.587265\n",
       "Employed part-time                                       42819.782319\n",
       "Independent contractor, freelancer, or self-employed     88509.934576\n",
       "Not employed, and not looking for work                            NaN\n",
       "Not employed, but looking for work                                NaN\n",
       "Retired                                                           NaN\n",
       "Student                                                           NaN\n",
       "Name: ConvertedComp, dtype: float64"
      ]
     },
     "execution_count": 30,
     "metadata": {},
     "output_type": "execute_result"
    }
   ],
   "source": [
    "# the avarage salary for the different employment level\n",
    "\n",
    "df.groupby(['Employment']).mean()['ConvertedComp']"
   ]
  },
  {
   "cell_type": "code",
   "execution_count": 31,
   "metadata": {},
   "outputs": [
    {
     "data": {
      "text/html": [
       "<div>\n",
       "<style scoped>\n",
       "    .dataframe tbody tr th:only-of-type {\n",
       "        vertical-align: middle;\n",
       "    }\n",
       "\n",
       "    .dataframe tbody tr th {\n",
       "        vertical-align: top;\n",
       "    }\n",
       "\n",
       "    .dataframe thead th {\n",
       "        text-align: right;\n",
       "    }\n",
       "</style>\n",
       "<table border=\"1\" class=\"dataframe\">\n",
       "  <thead>\n",
       "    <tr style=\"text-align: right;\">\n",
       "      <th></th>\n",
       "      <th>Respondent</th>\n",
       "      <th>Age</th>\n",
       "      <th>CompTotal</th>\n",
       "      <th>ConvertedComp</th>\n",
       "      <th>WorkWeekHrs</th>\n",
       "    </tr>\n",
       "    <tr>\n",
       "      <th>SurveyEase</th>\n",
       "      <th></th>\n",
       "      <th></th>\n",
       "      <th></th>\n",
       "      <th></th>\n",
       "      <th></th>\n",
       "    </tr>\n",
       "  </thead>\n",
       "  <tbody>\n",
       "    <tr>\n",
       "      <th>Difficult</th>\n",
       "      <td>28956.042857</td>\n",
       "      <td>29.488889</td>\n",
       "      <td>3.424658e+46</td>\n",
       "      <td>73534.285223</td>\n",
       "      <td>40.388608</td>\n",
       "    </tr>\n",
       "    <tr>\n",
       "      <th>Easy</th>\n",
       "      <td>29054.869607</td>\n",
       "      <td>30.952544</td>\n",
       "      <td>3.916189e+26</td>\n",
       "      <td>108310.958586</td>\n",
       "      <td>40.819801</td>\n",
       "    </tr>\n",
       "    <tr>\n",
       "      <th>Neither easy nor difficult</th>\n",
       "      <td>29343.751032</td>\n",
       "      <td>30.619960</td>\n",
       "      <td>1.189117e+243</td>\n",
       "      <td>93668.088655</td>\n",
       "      <td>40.629448</td>\n",
       "    </tr>\n",
       "  </tbody>\n",
       "</table>\n",
       "</div>"
      ],
      "text/plain": [
       "                              Respondent        Age      CompTotal  \\\n",
       "SurveyEase                                                           \n",
       "Difficult                   28956.042857  29.488889   3.424658e+46   \n",
       "Easy                        29054.869607  30.952544   3.916189e+26   \n",
       "Neither easy nor difficult  29343.751032  30.619960  1.189117e+243   \n",
       "\n",
       "                            ConvertedComp  WorkWeekHrs  \n",
       "SurveyEase                                              \n",
       "Difficult                    73534.285223    40.388608  \n",
       "Easy                        108310.958586    40.819801  \n",
       "Neither easy nor difficult   93668.088655    40.629448  "
      ]
     },
     "execution_count": 31,
     "metadata": {},
     "output_type": "execute_result"
    }
   ],
   "source": [
    "# report on the survey ease with different concerns and features.\n",
    "df.groupby(['SurveyEase']).mean()"
   ]
  },
  {
   "cell_type": "code",
   "execution_count": 32,
   "metadata": {},
   "outputs": [
    {
     "data": {
      "text/html": [
       "<div>\n",
       "<style scoped>\n",
       "    .dataframe tbody tr th:only-of-type {\n",
       "        vertical-align: middle;\n",
       "    }\n",
       "\n",
       "    .dataframe tbody tr th {\n",
       "        vertical-align: top;\n",
       "    }\n",
       "\n",
       "    .dataframe thead th {\n",
       "        text-align: right;\n",
       "    }\n",
       "</style>\n",
       "<table border=\"1\" class=\"dataframe\">\n",
       "  <thead>\n",
       "    <tr style=\"text-align: right;\">\n",
       "      <th></th>\n",
       "      <th>Respondent</th>\n",
       "      <th>Age</th>\n",
       "      <th>CompTotal</th>\n",
       "      <th>ConvertedComp</th>\n",
       "      <th>WorkWeekHrs</th>\n",
       "    </tr>\n",
       "    <tr>\n",
       "      <th>NEWPurchaseResearch</th>\n",
       "      <th></th>\n",
       "      <th></th>\n",
       "      <th></th>\n",
       "      <th></th>\n",
       "      <th></th>\n",
       "    </tr>\n",
       "  </thead>\n",
       "  <tbody>\n",
       "    <tr>\n",
       "      <th>Ask developers I know/work with</th>\n",
       "      <td>31302.388889</td>\n",
       "      <td>29.454978</td>\n",
       "      <td>2.973875e+06</td>\n",
       "      <td>117879.078947</td>\n",
       "      <td>40.841628</td>\n",
       "    </tr>\n",
       "    <tr>\n",
       "      <th>Ask developers I know/work with;Read ratings or reviews on third party sites like G2Crowd</th>\n",
       "      <td>31743.491379</td>\n",
       "      <td>29.874126</td>\n",
       "      <td>5.116477e+05</td>\n",
       "      <td>96574.276596</td>\n",
       "      <td>39.892857</td>\n",
       "    </tr>\n",
       "    <tr>\n",
       "      <th>Ask developers I know/work with;Read ratings or reviews on third party sites like G2Crowd;Research companies that have advertised on sites I visit</th>\n",
       "      <td>28185.638298</td>\n",
       "      <td>31.156250</td>\n",
       "      <td>3.907018e+06</td>\n",
       "      <td>151137.000000</td>\n",
       "      <td>39.516129</td>\n",
       "    </tr>\n",
       "    <tr>\n",
       "      <th>Ask developers I know/work with;Read ratings or reviews on third party sites like G2Crowd;Research companies that have advertised on sites I visit;Research companies that have emailed me</th>\n",
       "      <td>30899.333333</td>\n",
       "      <td>25.000000</td>\n",
       "      <td>4.230168e+05</td>\n",
       "      <td>38828.000000</td>\n",
       "      <td>41.750000</td>\n",
       "    </tr>\n",
       "    <tr>\n",
       "      <th>Ask developers I know/work with;Read ratings or reviews on third party sites like G2Crowd;Research companies that have emailed me</th>\n",
       "      <td>28184.666667</td>\n",
       "      <td>28.400000</td>\n",
       "      <td>1.428571e+149</td>\n",
       "      <td>500488.571429</td>\n",
       "      <td>40.875000</td>\n",
       "    </tr>\n",
       "    <tr>\n",
       "      <th>...</th>\n",
       "      <td>...</td>\n",
       "      <td>...</td>\n",
       "      <td>...</td>\n",
       "      <td>...</td>\n",
       "      <td>...</td>\n",
       "    </tr>\n",
       "    <tr>\n",
       "      <th>Visit developer communities like Stack Overflow;Read ratings or reviews on third party sites like G2Crowd;Research companies that have advertised on sites I visit;Research companies that have emailed me</th>\n",
       "      <td>22134.653846</td>\n",
       "      <td>26.550000</td>\n",
       "      <td>4.473636e+04</td>\n",
       "      <td>24033.545455</td>\n",
       "      <td>43.866667</td>\n",
       "    </tr>\n",
       "    <tr>\n",
       "      <th>Visit developer communities like Stack Overflow;Read ratings or reviews on third party sites like G2Crowd;Research companies that have emailed me</th>\n",
       "      <td>35593.666667</td>\n",
       "      <td>33.727273</td>\n",
       "      <td>3.448733e+05</td>\n",
       "      <td>35927.166667</td>\n",
       "      <td>46.714286</td>\n",
       "    </tr>\n",
       "    <tr>\n",
       "      <th>Visit developer communities like Stack Overflow;Research companies that have advertised on sites I visit</th>\n",
       "      <td>27869.270492</td>\n",
       "      <td>29.263158</td>\n",
       "      <td>4.271210e+05</td>\n",
       "      <td>76306.893617</td>\n",
       "      <td>37.938596</td>\n",
       "    </tr>\n",
       "    <tr>\n",
       "      <th>Visit developer communities like Stack Overflow;Research companies that have advertised on sites I visit;Research companies that have emailed me</th>\n",
       "      <td>29426.777778</td>\n",
       "      <td>34.100000</td>\n",
       "      <td>6.025000e+05</td>\n",
       "      <td>60607.125000</td>\n",
       "      <td>42.222222</td>\n",
       "    </tr>\n",
       "    <tr>\n",
       "      <th>Visit developer communities like Stack Overflow;Research companies that have emailed me</th>\n",
       "      <td>29450.133333</td>\n",
       "      <td>29.500000</td>\n",
       "      <td>2.010000e+06</td>\n",
       "      <td>26206.750000</td>\n",
       "      <td>53.333333</td>\n",
       "    </tr>\n",
       "  </tbody>\n",
       "</table>\n",
       "<p>63 rows × 5 columns</p>\n",
       "</div>"
      ],
      "text/plain": [
       "                                                      Respondent        Age  \\\n",
       "NEWPurchaseResearch                                                           \n",
       "Ask developers I know/work with                     31302.388889  29.454978   \n",
       "Ask developers I know/work with;Read ratings or...  31743.491379  29.874126   \n",
       "Ask developers I know/work with;Read ratings or...  28185.638298  31.156250   \n",
       "Ask developers I know/work with;Read ratings or...  30899.333333  25.000000   \n",
       "Ask developers I know/work with;Read ratings or...  28184.666667  28.400000   \n",
       "...                                                          ...        ...   \n",
       "Visit developer communities like Stack Overflow...  22134.653846  26.550000   \n",
       "Visit developer communities like Stack Overflow...  35593.666667  33.727273   \n",
       "Visit developer communities like Stack Overflow...  27869.270492  29.263158   \n",
       "Visit developer communities like Stack Overflow...  29426.777778  34.100000   \n",
       "Visit developer communities like Stack Overflow...  29450.133333  29.500000   \n",
       "\n",
       "                                                        CompTotal  \\\n",
       "NEWPurchaseResearch                                                 \n",
       "Ask developers I know/work with                      2.973875e+06   \n",
       "Ask developers I know/work with;Read ratings or...   5.116477e+05   \n",
       "Ask developers I know/work with;Read ratings or...   3.907018e+06   \n",
       "Ask developers I know/work with;Read ratings or...   4.230168e+05   \n",
       "Ask developers I know/work with;Read ratings or...  1.428571e+149   \n",
       "...                                                           ...   \n",
       "Visit developer communities like Stack Overflow...   4.473636e+04   \n",
       "Visit developer communities like Stack Overflow...   3.448733e+05   \n",
       "Visit developer communities like Stack Overflow...   4.271210e+05   \n",
       "Visit developer communities like Stack Overflow...   6.025000e+05   \n",
       "Visit developer communities like Stack Overflow...   2.010000e+06   \n",
       "\n",
       "                                                    ConvertedComp  WorkWeekHrs  \n",
       "NEWPurchaseResearch                                                             \n",
       "Ask developers I know/work with                     117879.078947    40.841628  \n",
       "Ask developers I know/work with;Read ratings or...   96574.276596    39.892857  \n",
       "Ask developers I know/work with;Read ratings or...  151137.000000    39.516129  \n",
       "Ask developers I know/work with;Read ratings or...   38828.000000    41.750000  \n",
       "Ask developers I know/work with;Read ratings or...  500488.571429    40.875000  \n",
       "...                                                           ...          ...  \n",
       "Visit developer communities like Stack Overflow...   24033.545455    43.866667  \n",
       "Visit developer communities like Stack Overflow...   35927.166667    46.714286  \n",
       "Visit developer communities like Stack Overflow...   76306.893617    37.938596  \n",
       "Visit developer communities like Stack Overflow...   60607.125000    42.222222  \n",
       "Visit developer communities like Stack Overflow...   26206.750000    53.333333  \n",
       "\n",
       "[63 rows x 5 columns]"
      ]
     },
     "execution_count": 32,
     "metadata": {},
     "output_type": "execute_result"
    }
   ],
   "source": [
    "df.groupby(['NEWPurchaseResearch']).mean()"
   ]
  },
  {
   "cell_type": "markdown",
   "metadata": {},
   "source": [
    "### how does the survey influence the online enrollment?"
   ]
  },
  {
   "cell_type": "code",
   "execution_count": 33,
   "metadata": {},
   "outputs": [],
   "source": [
    "#df['NEWPurchaseResearch'].dropna()\n",
    "#df['SurveyEase'].dropna()"
   ]
  },
  {
   "cell_type": "code",
   "execution_count": 34,
   "metadata": {},
   "outputs": [
    {
     "data": {
      "text/plain": [
       "array(['C#;HTML/CSS;JavaScript', 'Python;Swift',\n",
       "       'Objective-C;Python;Swift', ...,\n",
       "       'Bash/Shell/PowerShell;Go;HTML/CSS;JavaScript;Perl;PHP;Python;SQL',\n",
       "       'Assembly;C#;Kotlin',\n",
       "       'Assembly;Bash/Shell/PowerShell;C;C#;C++;Dart;Go;HTML/CSS;Java;JavaScript;Kotlin;Objective-C;PHP;Python;SQL;Swift;TypeScript'],\n",
       "      dtype=object)"
      ]
     },
     "execution_count": 34,
     "metadata": {},
     "output_type": "execute_result"
    }
   ],
   "source": [
    "df['LanguageDesireNextYear'].unique()"
   ]
  },
  {
   "cell_type": "code",
   "execution_count": 35,
   "metadata": {},
   "outputs": [
    {
     "data": {
      "text/html": [
       "<div>\n",
       "<style scoped>\n",
       "    .dataframe tbody tr th:only-of-type {\n",
       "        vertical-align: middle;\n",
       "    }\n",
       "\n",
       "    .dataframe tbody tr th {\n",
       "        vertical-align: top;\n",
       "    }\n",
       "\n",
       "    .dataframe thead th {\n",
       "        text-align: right;\n",
       "    }\n",
       "</style>\n",
       "<table border=\"1\" class=\"dataframe\">\n",
       "  <thead>\n",
       "    <tr style=\"text-align: right;\">\n",
       "      <th></th>\n",
       "      <th>NEWPurchaseResearch</th>\n",
       "      <th>Gender</th>\n",
       "      <th>SurveyEase</th>\n",
       "    </tr>\n",
       "  </thead>\n",
       "  <tbody>\n",
       "    <tr>\n",
       "      <th>34</th>\n",
       "      <td>Visit developer communities like Stack Overflo...</td>\n",
       "      <td>Woman</td>\n",
       "      <td>Easy</td>\n",
       "    </tr>\n",
       "    <tr>\n",
       "      <th>39</th>\n",
       "      <td>NaN</td>\n",
       "      <td>Woman</td>\n",
       "      <td>Easy</td>\n",
       "    </tr>\n",
       "    <tr>\n",
       "      <th>55</th>\n",
       "      <td>NaN</td>\n",
       "      <td>Woman</td>\n",
       "      <td>Easy</td>\n",
       "    </tr>\n",
       "    <tr>\n",
       "      <th>65</th>\n",
       "      <td>Start a free trial;Ask developers I know/work ...</td>\n",
       "      <td>Woman</td>\n",
       "      <td>Neither easy nor difficult</td>\n",
       "    </tr>\n",
       "    <tr>\n",
       "      <th>84</th>\n",
       "      <td>Start a free trial;Ask developers I know/work ...</td>\n",
       "      <td>Woman</td>\n",
       "      <td>Easy</td>\n",
       "    </tr>\n",
       "    <tr>\n",
       "      <th>87</th>\n",
       "      <td>Start a free trial;Ask developers I know/work ...</td>\n",
       "      <td>Woman</td>\n",
       "      <td>Easy</td>\n",
       "    </tr>\n",
       "    <tr>\n",
       "      <th>88</th>\n",
       "      <td>NaN</td>\n",
       "      <td>Woman</td>\n",
       "      <td>Easy</td>\n",
       "    </tr>\n",
       "    <tr>\n",
       "      <th>95</th>\n",
       "      <td>NaN</td>\n",
       "      <td>Woman</td>\n",
       "      <td>Easy</td>\n",
       "    </tr>\n",
       "    <tr>\n",
       "      <th>99</th>\n",
       "      <td>Start a free trial</td>\n",
       "      <td>Woman</td>\n",
       "      <td>Easy</td>\n",
       "    </tr>\n",
       "    <tr>\n",
       "      <th>105</th>\n",
       "      <td>Start a free trial;Ask developers I know/work ...</td>\n",
       "      <td>Woman</td>\n",
       "      <td>Easy</td>\n",
       "    </tr>\n",
       "    <tr>\n",
       "      <th>109</th>\n",
       "      <td>Start a free trial;Visit developer communities...</td>\n",
       "      <td>Woman</td>\n",
       "      <td>Easy</td>\n",
       "    </tr>\n",
       "    <tr>\n",
       "      <th>125</th>\n",
       "      <td>Start a free trial;Visit developer communities...</td>\n",
       "      <td>Woman</td>\n",
       "      <td>Neither easy nor difficult</td>\n",
       "    </tr>\n",
       "    <tr>\n",
       "      <th>126</th>\n",
       "      <td>Start a free trial;Ask developers I know/work ...</td>\n",
       "      <td>Woman</td>\n",
       "      <td>Neither easy nor difficult</td>\n",
       "    </tr>\n",
       "    <tr>\n",
       "      <th>137</th>\n",
       "      <td>NaN</td>\n",
       "      <td>Woman</td>\n",
       "      <td>Easy</td>\n",
       "    </tr>\n",
       "    <tr>\n",
       "      <th>197</th>\n",
       "      <td>Start a free trial;Ask developers I know/work ...</td>\n",
       "      <td>Woman</td>\n",
       "      <td>Easy</td>\n",
       "    </tr>\n",
       "    <tr>\n",
       "      <th>244</th>\n",
       "      <td>NaN</td>\n",
       "      <td>Woman</td>\n",
       "      <td>Easy</td>\n",
       "    </tr>\n",
       "    <tr>\n",
       "      <th>250</th>\n",
       "      <td>Ask developers I know/work with;Visit develope...</td>\n",
       "      <td>Woman</td>\n",
       "      <td>Easy</td>\n",
       "    </tr>\n",
       "    <tr>\n",
       "      <th>263</th>\n",
       "      <td>NaN</td>\n",
       "      <td>Woman</td>\n",
       "      <td>Easy</td>\n",
       "    </tr>\n",
       "    <tr>\n",
       "      <th>306</th>\n",
       "      <td>Start a free trial;Ask developers I know/work ...</td>\n",
       "      <td>Woman</td>\n",
       "      <td>Easy</td>\n",
       "    </tr>\n",
       "    <tr>\n",
       "      <th>321</th>\n",
       "      <td>NaN</td>\n",
       "      <td>Woman</td>\n",
       "      <td>Neither easy nor difficult</td>\n",
       "    </tr>\n",
       "  </tbody>\n",
       "</table>\n",
       "</div>"
      ],
      "text/plain": [
       "                                   NEWPurchaseResearch Gender  \\\n",
       "34   Visit developer communities like Stack Overflo...  Woman   \n",
       "39                                                 NaN  Woman   \n",
       "55                                                 NaN  Woman   \n",
       "65   Start a free trial;Ask developers I know/work ...  Woman   \n",
       "84   Start a free trial;Ask developers I know/work ...  Woman   \n",
       "87   Start a free trial;Ask developers I know/work ...  Woman   \n",
       "88                                                 NaN  Woman   \n",
       "95                                                 NaN  Woman   \n",
       "99                                  Start a free trial  Woman   \n",
       "105  Start a free trial;Ask developers I know/work ...  Woman   \n",
       "109  Start a free trial;Visit developer communities...  Woman   \n",
       "125  Start a free trial;Visit developer communities...  Woman   \n",
       "126  Start a free trial;Ask developers I know/work ...  Woman   \n",
       "137                                                NaN  Woman   \n",
       "197  Start a free trial;Ask developers I know/work ...  Woman   \n",
       "244                                                NaN  Woman   \n",
       "250  Ask developers I know/work with;Visit develope...  Woman   \n",
       "263                                                NaN  Woman   \n",
       "306  Start a free trial;Ask developers I know/work ...  Woman   \n",
       "321                                                NaN  Woman   \n",
       "\n",
       "                     SurveyEase  \n",
       "34                         Easy  \n",
       "39                         Easy  \n",
       "55                         Easy  \n",
       "65   Neither easy nor difficult  \n",
       "84                         Easy  \n",
       "87                         Easy  \n",
       "88                         Easy  \n",
       "95                         Easy  \n",
       "99                         Easy  \n",
       "105                        Easy  \n",
       "109                        Easy  \n",
       "125  Neither easy nor difficult  \n",
       "126  Neither easy nor difficult  \n",
       "137                        Easy  \n",
       "197                        Easy  \n",
       "244                        Easy  \n",
       "250                        Easy  \n",
       "263                        Easy  \n",
       "306                        Easy  \n",
       "321  Neither easy nor difficult  "
      ]
     },
     "execution_count": 35,
     "metadata": {},
     "output_type": "execute_result"
    }
   ],
   "source": [
    "# what does the survey says from women who are making some purchase?\n",
    "data_women = df.loc[\n",
    "                      (df[\"Gender\"]==\"Woman\") | (df[\"SurveyEase\"]==\"\"),\n",
    "                       [\"NEWPurchaseResearch\", \"Gender\", \"SurveyEase\"]]\n",
    "\n",
    "data_women.head(20)"
   ]
  },
  {
   "cell_type": "code",
   "execution_count": 36,
   "metadata": {},
   "outputs": [
    {
     "data": {
      "text/html": [
       "<div>\n",
       "<style scoped>\n",
       "    .dataframe tbody tr th:only-of-type {\n",
       "        vertical-align: middle;\n",
       "    }\n",
       "\n",
       "    .dataframe tbody tr th {\n",
       "        vertical-align: top;\n",
       "    }\n",
       "\n",
       "    .dataframe thead th {\n",
       "        text-align: right;\n",
       "    }\n",
       "</style>\n",
       "<table border=\"1\" class=\"dataframe\">\n",
       "  <thead>\n",
       "    <tr style=\"text-align: right;\">\n",
       "      <th></th>\n",
       "      <th>NEWPurchaseResearch</th>\n",
       "      <th>Gender</th>\n",
       "      <th>SurveyEase</th>\n",
       "    </tr>\n",
       "  </thead>\n",
       "  <tbody>\n",
       "    <tr>\n",
       "      <th>0</th>\n",
       "      <td>Start a free trial;Ask developers I know/work ...</td>\n",
       "      <td>Man</td>\n",
       "      <td>Neither easy nor difficult</td>\n",
       "    </tr>\n",
       "    <tr>\n",
       "      <th>3</th>\n",
       "      <td>NaN</td>\n",
       "      <td>Man</td>\n",
       "      <td>NaN</td>\n",
       "    </tr>\n",
       "    <tr>\n",
       "      <th>4</th>\n",
       "      <td>Start a free trial;Ask developers I know/work ...</td>\n",
       "      <td>Man</td>\n",
       "      <td>Easy</td>\n",
       "    </tr>\n",
       "    <tr>\n",
       "      <th>5</th>\n",
       "      <td>Ask developers I know/work with;Read ratings o...</td>\n",
       "      <td>Man</td>\n",
       "      <td>Neither easy nor difficult</td>\n",
       "    </tr>\n",
       "    <tr>\n",
       "      <th>7</th>\n",
       "      <td>Start a free trial;Ask developers I know/work ...</td>\n",
       "      <td>Man</td>\n",
       "      <td>Easy</td>\n",
       "    </tr>\n",
       "    <tr>\n",
       "      <th>8</th>\n",
       "      <td>Start a free trial</td>\n",
       "      <td>Man</td>\n",
       "      <td>Neither easy nor difficult</td>\n",
       "    </tr>\n",
       "    <tr>\n",
       "      <th>9</th>\n",
       "      <td>Start a free trial;Ask developers I know/work ...</td>\n",
       "      <td>Man</td>\n",
       "      <td>Easy</td>\n",
       "    </tr>\n",
       "    <tr>\n",
       "      <th>10</th>\n",
       "      <td>NaN</td>\n",
       "      <td>Man</td>\n",
       "      <td>Easy</td>\n",
       "    </tr>\n",
       "    <tr>\n",
       "      <th>11</th>\n",
       "      <td>NaN</td>\n",
       "      <td>Man</td>\n",
       "      <td>Easy</td>\n",
       "    </tr>\n",
       "    <tr>\n",
       "      <th>12</th>\n",
       "      <td>Start a free trial</td>\n",
       "      <td>Man</td>\n",
       "      <td>Neither easy nor difficult</td>\n",
       "    </tr>\n",
       "    <tr>\n",
       "      <th>13</th>\n",
       "      <td>NaN</td>\n",
       "      <td>Man</td>\n",
       "      <td>Neither easy nor difficult</td>\n",
       "    </tr>\n",
       "    <tr>\n",
       "      <th>14</th>\n",
       "      <td>Ask developers I know/work with</td>\n",
       "      <td>Man</td>\n",
       "      <td>Easy</td>\n",
       "    </tr>\n",
       "    <tr>\n",
       "      <th>15</th>\n",
       "      <td>Ask developers I know/work with;Visit develope...</td>\n",
       "      <td>Man</td>\n",
       "      <td>Easy</td>\n",
       "    </tr>\n",
       "    <tr>\n",
       "      <th>16</th>\n",
       "      <td>NaN</td>\n",
       "      <td>Man</td>\n",
       "      <td>Easy</td>\n",
       "    </tr>\n",
       "    <tr>\n",
       "      <th>17</th>\n",
       "      <td>Start a free trial;Ask developers I know/work ...</td>\n",
       "      <td>Man</td>\n",
       "      <td>Neither easy nor difficult</td>\n",
       "    </tr>\n",
       "    <tr>\n",
       "      <th>18</th>\n",
       "      <td>NaN</td>\n",
       "      <td>Man</td>\n",
       "      <td>Easy</td>\n",
       "    </tr>\n",
       "    <tr>\n",
       "      <th>19</th>\n",
       "      <td>NaN</td>\n",
       "      <td>Man</td>\n",
       "      <td>Easy</td>\n",
       "    </tr>\n",
       "    <tr>\n",
       "      <th>20</th>\n",
       "      <td>NaN</td>\n",
       "      <td>Man</td>\n",
       "      <td>Neither easy nor difficult</td>\n",
       "    </tr>\n",
       "    <tr>\n",
       "      <th>21</th>\n",
       "      <td>NaN</td>\n",
       "      <td>Man</td>\n",
       "      <td>Easy</td>\n",
       "    </tr>\n",
       "    <tr>\n",
       "      <th>22</th>\n",
       "      <td>Start a free trial;Ask developers I know/work ...</td>\n",
       "      <td>Man</td>\n",
       "      <td>Easy</td>\n",
       "    </tr>\n",
       "  </tbody>\n",
       "</table>\n",
       "</div>"
      ],
      "text/plain": [
       "                                  NEWPurchaseResearch Gender  \\\n",
       "0   Start a free trial;Ask developers I know/work ...    Man   \n",
       "3                                                 NaN    Man   \n",
       "4   Start a free trial;Ask developers I know/work ...    Man   \n",
       "5   Ask developers I know/work with;Read ratings o...    Man   \n",
       "7   Start a free trial;Ask developers I know/work ...    Man   \n",
       "8                                  Start a free trial    Man   \n",
       "9   Start a free trial;Ask developers I know/work ...    Man   \n",
       "10                                                NaN    Man   \n",
       "11                                                NaN    Man   \n",
       "12                                 Start a free trial    Man   \n",
       "13                                                NaN    Man   \n",
       "14                    Ask developers I know/work with    Man   \n",
       "15  Ask developers I know/work with;Visit develope...    Man   \n",
       "16                                                NaN    Man   \n",
       "17  Start a free trial;Ask developers I know/work ...    Man   \n",
       "18                                                NaN    Man   \n",
       "19                                                NaN    Man   \n",
       "20                                                NaN    Man   \n",
       "21                                                NaN    Man   \n",
       "22  Start a free trial;Ask developers I know/work ...    Man   \n",
       "\n",
       "                    SurveyEase  \n",
       "0   Neither easy nor difficult  \n",
       "3                          NaN  \n",
       "4                         Easy  \n",
       "5   Neither easy nor difficult  \n",
       "7                         Easy  \n",
       "8   Neither easy nor difficult  \n",
       "9                         Easy  \n",
       "10                        Easy  \n",
       "11                        Easy  \n",
       "12  Neither easy nor difficult  \n",
       "13  Neither easy nor difficult  \n",
       "14                        Easy  \n",
       "15                        Easy  \n",
       "16                        Easy  \n",
       "17  Neither easy nor difficult  \n",
       "18                        Easy  \n",
       "19                        Easy  \n",
       "20  Neither easy nor difficult  \n",
       "21                        Easy  \n",
       "22                        Easy  "
      ]
     },
     "execution_count": 36,
     "metadata": {},
     "output_type": "execute_result"
    }
   ],
   "source": [
    "# what does the survey says from men who are making some purchase?\n",
    "data_men = df.loc[\n",
    "        (df[\"Gender\"]==\"Man\") | (df[\"SurveyEase\"]==\"\"),\n",
    "            [\"NEWPurchaseResearch\", \"Gender\", \"SurveyEase\"]]\n",
    "\n",
    "data_men.head(20)"
   ]
  },
  {
   "cell_type": "code",
   "execution_count": 37,
   "metadata": {},
   "outputs": [
    {
     "data": {
      "text/plain": [
       "array([[<matplotlib.axes._subplots.AxesSubplot object at 0x000002718594A208>,\n",
       "        <matplotlib.axes._subplots.AxesSubplot object at 0x000002718594A508>],\n",
       "       [<matplotlib.axes._subplots.AxesSubplot object at 0x0000027185589188>,\n",
       "        <matplotlib.axes._subplots.AxesSubplot object at 0x0000027185642C88>],\n",
       "       [<matplotlib.axes._subplots.AxesSubplot object at 0x0000027185322388>,\n",
       "        <matplotlib.axes._subplots.AxesSubplot object at 0x000002718591AD08>]],\n",
       "      dtype=object)"
      ]
     },
     "execution_count": 37,
     "metadata": {},
     "output_type": "execute_result"
    },
    {
     "data": {
      "image/png": "[encoded data removed]",
      "text/plain": [
       "<Figure size 432x288 with 6 Axes>"
      ]
     },
     "metadata": {
      "needs_background": "light"
     },
     "output_type": "display_data"
    }
   ],
   "source": [
    "df.hist() # checking to see what the data is saying"
   ]
  },
  {
   "cell_type": "code",
   "execution_count": 38,
   "metadata": {},
   "outputs": [
    {
     "data": {
      "text/plain": [
       "<matplotlib.axes._subplots.AxesSubplot at 0x27185ab58c8>"
      ]
     },
     "execution_count": 38,
     "metadata": {},
     "output_type": "execute_result"
    },
    {
     "data": {
      "image/png": "[encoded data removed]",
      "text/plain": [
       "<Figure size 432x288 with 2 Axes>"
      ]
     },
     "metadata": {
      "needs_background": "light"
     },
     "output_type": "display_data"
    }
   ],
   "source": [
    "sns.heatmap(df.corr(),annot=True, fmt='.2f') # looking some correlation"
   ]
  },
  {
   "cell_type": "code",
   "execution_count": 39,
   "metadata": {},
   "outputs": [
    {
     "data": {
      "text/html": [
       "<div>\n",
       "<style scoped>\n",
       "    .dataframe tbody tr th:only-of-type {\n",
       "        vertical-align: middle;\n",
       "    }\n",
       "\n",
       "    .dataframe tbody tr th {\n",
       "        vertical-align: top;\n",
       "    }\n",
       "\n",
       "    .dataframe thead th {\n",
       "        text-align: right;\n",
       "    }\n",
       "</style>\n",
       "<table border=\"1\" class=\"dataframe\">\n",
       "  <thead>\n",
       "    <tr style=\"text-align: right;\">\n",
       "      <th></th>\n",
       "      <th>Employment</th>\n",
       "      <th>Ethnicity</th>\n",
       "      <th>Country</th>\n",
       "    </tr>\n",
       "  </thead>\n",
       "  <tbody>\n",
       "    <tr>\n",
       "      <th>4</th>\n",
       "      <td>Employed full-time</td>\n",
       "      <td>White or of European descent</td>\n",
       "      <td>United States</td>\n",
       "    </tr>\n",
       "    <tr>\n",
       "      <th>7</th>\n",
       "      <td>Employed full-time</td>\n",
       "      <td>White or of European descent</td>\n",
       "      <td>United States</td>\n",
       "    </tr>\n",
       "    <tr>\n",
       "      <th>13</th>\n",
       "      <td>Employed full-time</td>\n",
       "      <td>White or of European descent</td>\n",
       "      <td>United States</td>\n",
       "    </tr>\n",
       "    <tr>\n",
       "      <th>16</th>\n",
       "      <td>Employed full-time</td>\n",
       "      <td>White or of European descent</td>\n",
       "      <td>United States</td>\n",
       "    </tr>\n",
       "    <tr>\n",
       "      <th>17</th>\n",
       "      <td>Employed full-time</td>\n",
       "      <td>White or of European descent</td>\n",
       "      <td>United States</td>\n",
       "    </tr>\n",
       "    <tr>\n",
       "      <th>18</th>\n",
       "      <td>Employed full-time</td>\n",
       "      <td>White or of European descent</td>\n",
       "      <td>United States</td>\n",
       "    </tr>\n",
       "    <tr>\n",
       "      <th>26</th>\n",
       "      <td>Employed full-time</td>\n",
       "      <td>White or of European descent</td>\n",
       "      <td>United States</td>\n",
       "    </tr>\n",
       "    <tr>\n",
       "      <th>34</th>\n",
       "      <td>Not employed, but looking for work</td>\n",
       "      <td>White or of European descent</td>\n",
       "      <td>United States</td>\n",
       "    </tr>\n",
       "    <tr>\n",
       "      <th>39</th>\n",
       "      <td>Student</td>\n",
       "      <td>Hispanic or Latino/a/x</td>\n",
       "      <td>United States</td>\n",
       "    </tr>\n",
       "    <tr>\n",
       "      <th>40</th>\n",
       "      <td>Employed full-time</td>\n",
       "      <td>NaN</td>\n",
       "      <td>United States</td>\n",
       "    </tr>\n",
       "    <tr>\n",
       "      <th>41</th>\n",
       "      <td>Employed full-time</td>\n",
       "      <td>White or of European descent</td>\n",
       "      <td>United States</td>\n",
       "    </tr>\n",
       "    <tr>\n",
       "      <th>42</th>\n",
       "      <td>Employed full-time</td>\n",
       "      <td>NaN</td>\n",
       "      <td>United States</td>\n",
       "    </tr>\n",
       "    <tr>\n",
       "      <th>47</th>\n",
       "      <td>Employed full-time</td>\n",
       "      <td>White or of European descent</td>\n",
       "      <td>United States</td>\n",
       "    </tr>\n",
       "    <tr>\n",
       "      <th>48</th>\n",
       "      <td>Employed full-time</td>\n",
       "      <td>White or of European descent</td>\n",
       "      <td>United States</td>\n",
       "    </tr>\n",
       "    <tr>\n",
       "      <th>52</th>\n",
       "      <td>Independent contractor, freelancer, or self-em...</td>\n",
       "      <td>East Asian</td>\n",
       "      <td>United States</td>\n",
       "    </tr>\n",
       "    <tr>\n",
       "      <th>53</th>\n",
       "      <td>Employed full-time</td>\n",
       "      <td>White or of European descent;Indigenous (such ...</td>\n",
       "      <td>United States</td>\n",
       "    </tr>\n",
       "    <tr>\n",
       "      <th>54</th>\n",
       "      <td>Not employed, but looking for work</td>\n",
       "      <td>Black or of African descent</td>\n",
       "      <td>United States</td>\n",
       "    </tr>\n",
       "    <tr>\n",
       "      <th>55</th>\n",
       "      <td>Employed full-time</td>\n",
       "      <td>White or of European descent</td>\n",
       "      <td>United States</td>\n",
       "    </tr>\n",
       "    <tr>\n",
       "      <th>56</th>\n",
       "      <td>Employed full-time</td>\n",
       "      <td>White or of European descent</td>\n",
       "      <td>United States</td>\n",
       "    </tr>\n",
       "    <tr>\n",
       "      <th>64</th>\n",
       "      <td>Employed full-time</td>\n",
       "      <td>White or of European descent</td>\n",
       "      <td>United States</td>\n",
       "    </tr>\n",
       "  </tbody>\n",
       "</table>\n",
       "</div>"
      ],
      "text/plain": [
       "                                           Employment  \\\n",
       "4                                  Employed full-time   \n",
       "7                                  Employed full-time   \n",
       "13                                 Employed full-time   \n",
       "16                                 Employed full-time   \n",
       "17                                 Employed full-time   \n",
       "18                                 Employed full-time   \n",
       "26                                 Employed full-time   \n",
       "34                 Not employed, but looking for work   \n",
       "39                                            Student   \n",
       "40                                 Employed full-time   \n",
       "41                                 Employed full-time   \n",
       "42                                 Employed full-time   \n",
       "47                                 Employed full-time   \n",
       "48                                 Employed full-time   \n",
       "52  Independent contractor, freelancer, or self-em...   \n",
       "53                                 Employed full-time   \n",
       "54                 Not employed, but looking for work   \n",
       "55                                 Employed full-time   \n",
       "56                                 Employed full-time   \n",
       "64                                 Employed full-time   \n",
       "\n",
       "                                            Ethnicity        Country  \n",
       "4                        White or of European descent  United States  \n",
       "7                        White or of European descent  United States  \n",
       "13                       White or of European descent  United States  \n",
       "16                       White or of European descent  United States  \n",
       "17                       White or of European descent  United States  \n",
       "18                       White or of European descent  United States  \n",
       "26                       White or of European descent  United States  \n",
       "34                       White or of European descent  United States  \n",
       "39                             Hispanic or Latino/a/x  United States  \n",
       "40                                                NaN  United States  \n",
       "41                       White or of European descent  United States  \n",
       "42                                                NaN  United States  \n",
       "47                       White or of European descent  United States  \n",
       "48                       White or of European descent  United States  \n",
       "52                                         East Asian  United States  \n",
       "53  White or of European descent;Indigenous (such ...  United States  \n",
       "54                        Black or of African descent  United States  \n",
       "55                       White or of European descent  United States  \n",
       "56                       White or of European descent  United States  \n",
       "64                       White or of European descent  United States  "
      ]
     },
     "execution_count": 39,
     "metadata": {},
     "output_type": "execute_result"
    }
   ],
   "source": [
    "# let's investigate the data for ethnicity on the Employment\n",
    "data_ethnic = df.loc[\n",
    "                      (df[\"Ethnicity\"]==\"\") | (df[\"Country\"]==\"United States\"),\n",
    "                       [\"Employment\", \"Ethnicity\", \"Country\"]]\n",
    "\n",
    "data_ethnic.head(20)"
   ]
  },
  {
   "cell_type": "code",
   "execution_count": 40,
   "metadata": {},
   "outputs": [
    {
     "data": {
      "text/html": [
       "<div>\n",
       "<style scoped>\n",
       "    .dataframe tbody tr th:only-of-type {\n",
       "        vertical-align: middle;\n",
       "    }\n",
       "\n",
       "    .dataframe tbody tr th {\n",
       "        vertical-align: top;\n",
       "    }\n",
       "\n",
       "    .dataframe thead th {\n",
       "        text-align: right;\n",
       "    }\n",
       "</style>\n",
       "<table border=\"1\" class=\"dataframe\">\n",
       "  <thead>\n",
       "    <tr style=\"text-align: right;\">\n",
       "      <th></th>\n",
       "      <th>Employment</th>\n",
       "      <th>EdLevel</th>\n",
       "      <th>Country</th>\n",
       "    </tr>\n",
       "  </thead>\n",
       "  <tbody>\n",
       "    <tr>\n",
       "      <th>4</th>\n",
       "      <td>Employed full-time</td>\n",
       "      <td>Bachelor’s degree (B.A., B.S., B.Eng., etc.)</td>\n",
       "      <td>United States</td>\n",
       "    </tr>\n",
       "    <tr>\n",
       "      <th>7</th>\n",
       "      <td>Employed full-time</td>\n",
       "      <td>Bachelor’s degree (B.A., B.S., B.Eng., etc.)</td>\n",
       "      <td>United States</td>\n",
       "    </tr>\n",
       "    <tr>\n",
       "      <th>13</th>\n",
       "      <td>Employed full-time</td>\n",
       "      <td>Associate degree (A.A., A.S., etc.)</td>\n",
       "      <td>United States</td>\n",
       "    </tr>\n",
       "    <tr>\n",
       "      <th>16</th>\n",
       "      <td>Employed full-time</td>\n",
       "      <td>Bachelor’s degree (B.A., B.S., B.Eng., etc.)</td>\n",
       "      <td>United States</td>\n",
       "    </tr>\n",
       "    <tr>\n",
       "      <th>17</th>\n",
       "      <td>Employed full-time</td>\n",
       "      <td>Bachelor’s degree (B.A., B.S., B.Eng., etc.)</td>\n",
       "      <td>United States</td>\n",
       "    </tr>\n",
       "    <tr>\n",
       "      <th>18</th>\n",
       "      <td>Employed full-time</td>\n",
       "      <td>Bachelor’s degree (B.A., B.S., B.Eng., etc.)</td>\n",
       "      <td>United States</td>\n",
       "    </tr>\n",
       "    <tr>\n",
       "      <th>26</th>\n",
       "      <td>Employed full-time</td>\n",
       "      <td>Bachelor’s degree (B.A., B.S., B.Eng., etc.)</td>\n",
       "      <td>United States</td>\n",
       "    </tr>\n",
       "    <tr>\n",
       "      <th>34</th>\n",
       "      <td>Not employed, but looking for work</td>\n",
       "      <td>Bachelor’s degree (B.A., B.S., B.Eng., etc.)</td>\n",
       "      <td>United States</td>\n",
       "    </tr>\n",
       "    <tr>\n",
       "      <th>39</th>\n",
       "      <td>Student</td>\n",
       "      <td>Associate degree (A.A., A.S., etc.)</td>\n",
       "      <td>United States</td>\n",
       "    </tr>\n",
       "    <tr>\n",
       "      <th>40</th>\n",
       "      <td>Employed full-time</td>\n",
       "      <td>Master’s degree (M.A., M.S., M.Eng., MBA, etc.)</td>\n",
       "      <td>United States</td>\n",
       "    </tr>\n",
       "    <tr>\n",
       "      <th>41</th>\n",
       "      <td>Employed full-time</td>\n",
       "      <td>Bachelor’s degree (B.A., B.S., B.Eng., etc.)</td>\n",
       "      <td>United States</td>\n",
       "    </tr>\n",
       "    <tr>\n",
       "      <th>42</th>\n",
       "      <td>Employed full-time</td>\n",
       "      <td>Master’s degree (M.A., M.S., M.Eng., MBA, etc.)</td>\n",
       "      <td>United States</td>\n",
       "    </tr>\n",
       "    <tr>\n",
       "      <th>47</th>\n",
       "      <td>Employed full-time</td>\n",
       "      <td>Bachelor’s degree (B.A., B.S., B.Eng., etc.)</td>\n",
       "      <td>United States</td>\n",
       "    </tr>\n",
       "    <tr>\n",
       "      <th>48</th>\n",
       "      <td>Employed full-time</td>\n",
       "      <td>Bachelor’s degree (B.A., B.S., B.Eng., etc.)</td>\n",
       "      <td>United States</td>\n",
       "    </tr>\n",
       "    <tr>\n",
       "      <th>52</th>\n",
       "      <td>Independent contractor, freelancer, or self-em...</td>\n",
       "      <td>Secondary school (e.g. American high school, G...</td>\n",
       "      <td>United States</td>\n",
       "    </tr>\n",
       "    <tr>\n",
       "      <th>53</th>\n",
       "      <td>Employed full-time</td>\n",
       "      <td>Bachelor’s degree (B.A., B.S., B.Eng., etc.)</td>\n",
       "      <td>United States</td>\n",
       "    </tr>\n",
       "    <tr>\n",
       "      <th>54</th>\n",
       "      <td>Not employed, but looking for work</td>\n",
       "      <td>Associate degree (A.A., A.S., etc.)</td>\n",
       "      <td>United States</td>\n",
       "    </tr>\n",
       "    <tr>\n",
       "      <th>55</th>\n",
       "      <td>Employed full-time</td>\n",
       "      <td>Bachelor’s degree (B.A., B.S., B.Eng., etc.)</td>\n",
       "      <td>United States</td>\n",
       "    </tr>\n",
       "    <tr>\n",
       "      <th>56</th>\n",
       "      <td>Employed full-time</td>\n",
       "      <td>Master’s degree (M.A., M.S., M.Eng., MBA, etc.)</td>\n",
       "      <td>United States</td>\n",
       "    </tr>\n",
       "    <tr>\n",
       "      <th>64</th>\n",
       "      <td>Employed full-time</td>\n",
       "      <td>Bachelor’s degree (B.A., B.S., B.Eng., etc.)</td>\n",
       "      <td>United States</td>\n",
       "    </tr>\n",
       "  </tbody>\n",
       "</table>\n",
       "</div>"
      ],
      "text/plain": [
       "                                           Employment  \\\n",
       "4                                  Employed full-time   \n",
       "7                                  Employed full-time   \n",
       "13                                 Employed full-time   \n",
       "16                                 Employed full-time   \n",
       "17                                 Employed full-time   \n",
       "18                                 Employed full-time   \n",
       "26                                 Employed full-time   \n",
       "34                 Not employed, but looking for work   \n",
       "39                                            Student   \n",
       "40                                 Employed full-time   \n",
       "41                                 Employed full-time   \n",
       "42                                 Employed full-time   \n",
       "47                                 Employed full-time   \n",
       "48                                 Employed full-time   \n",
       "52  Independent contractor, freelancer, or self-em...   \n",
       "53                                 Employed full-time   \n",
       "54                 Not employed, but looking for work   \n",
       "55                                 Employed full-time   \n",
       "56                                 Employed full-time   \n",
       "64                                 Employed full-time   \n",
       "\n",
       "                                              EdLevel        Country  \n",
       "4        Bachelor’s degree (B.A., B.S., B.Eng., etc.)  United States  \n",
       "7        Bachelor’s degree (B.A., B.S., B.Eng., etc.)  United States  \n",
       "13                Associate degree (A.A., A.S., etc.)  United States  \n",
       "16       Bachelor’s degree (B.A., B.S., B.Eng., etc.)  United States  \n",
       "17       Bachelor’s degree (B.A., B.S., B.Eng., etc.)  United States  \n",
       "18       Bachelor’s degree (B.A., B.S., B.Eng., etc.)  United States  \n",
       "26       Bachelor’s degree (B.A., B.S., B.Eng., etc.)  United States  \n",
       "34       Bachelor’s degree (B.A., B.S., B.Eng., etc.)  United States  \n",
       "39                Associate degree (A.A., A.S., etc.)  United States  \n",
       "40    Master’s degree (M.A., M.S., M.Eng., MBA, etc.)  United States  \n",
       "41       Bachelor’s degree (B.A., B.S., B.Eng., etc.)  United States  \n",
       "42    Master’s degree (M.A., M.S., M.Eng., MBA, etc.)  United States  \n",
       "47       Bachelor’s degree (B.A., B.S., B.Eng., etc.)  United States  \n",
       "48       Bachelor’s degree (B.A., B.S., B.Eng., etc.)  United States  \n",
       "52  Secondary school (e.g. American high school, G...  United States  \n",
       "53       Bachelor’s degree (B.A., B.S., B.Eng., etc.)  United States  \n",
       "54                Associate degree (A.A., A.S., etc.)  United States  \n",
       "55       Bachelor’s degree (B.A., B.S., B.Eng., etc.)  United States  \n",
       "56    Master’s degree (M.A., M.S., M.Eng., MBA, etc.)  United States  \n",
       "64       Bachelor’s degree (B.A., B.S., B.Eng., etc.)  United States  "
      ]
     },
     "execution_count": 40,
     "metadata": {},
     "output_type": "execute_result"
    }
   ],
   "source": [
    "# education level compare to employment\n",
    "data_educat = df.loc[\n",
    "        (df[\"EdLevel\"]==\"\") | (df[\"Country\"]==\"United States\"),\n",
    "                       [\"Employment\", \"EdLevel\", \"Country\"]]\n",
    "\n",
    "data_educat.head(20)\n"
   ]
  },
  {
   "cell_type": "code",
   "execution_count": 41,
   "metadata": {},
   "outputs": [],
   "source": [
    "# the overview of the people learning devOp\n",
    "\n",
    "data_devOp = df.loc[\n",
    "        (df[\"NEWLearn\"]==\"Once a year\") | (df[\"DevType\"]==\"\"),\n",
    "                       [\"Employment\", \"NEWLearn\", \"DevType\"]]\n"
   ]
  },
  {
   "cell_type": "code",
   "execution_count": 42,
   "metadata": {},
   "outputs": [
    {
     "data": {
      "text/html": [
       "<div>\n",
       "<style scoped>\n",
       "    .dataframe tbody tr th:only-of-type {\n",
       "        vertical-align: middle;\n",
       "    }\n",
       "\n",
       "    .dataframe tbody tr th {\n",
       "        vertical-align: top;\n",
       "    }\n",
       "\n",
       "    .dataframe thead th {\n",
       "        text-align: right;\n",
       "    }\n",
       "</style>\n",
       "<table border=\"1\" class=\"dataframe\">\n",
       "  <thead>\n",
       "    <tr style=\"text-align: right;\">\n",
       "      <th></th>\n",
       "      <th>Employment</th>\n",
       "      <th>NEWLearn</th>\n",
       "      <th>DevType</th>\n",
       "    </tr>\n",
       "  </thead>\n",
       "  <tbody>\n",
       "    <tr>\n",
       "      <th>0</th>\n",
       "      <td>Independent contractor, freelancer, or self-em...</td>\n",
       "      <td>Once a year</td>\n",
       "      <td>Developer, desktop or enterprise applications;...</td>\n",
       "    </tr>\n",
       "    <tr>\n",
       "      <th>1</th>\n",
       "      <td>Employed full-time</td>\n",
       "      <td>Once a year</td>\n",
       "      <td>Developer, full-stack;Developer, mobile</td>\n",
       "    </tr>\n",
       "    <tr>\n",
       "      <th>3</th>\n",
       "      <td>NaN</td>\n",
       "      <td>Once a year</td>\n",
       "      <td>NaN</td>\n",
       "    </tr>\n",
       "    <tr>\n",
       "      <th>4</th>\n",
       "      <td>Employed full-time</td>\n",
       "      <td>Once a year</td>\n",
       "      <td>NaN</td>\n",
       "    </tr>\n",
       "    <tr>\n",
       "      <th>5</th>\n",
       "      <td>Employed full-time</td>\n",
       "      <td>Once a year</td>\n",
       "      <td>Designer;Developer, front-end;Developer, mobile</td>\n",
       "    </tr>\n",
       "    <tr>\n",
       "      <th>7</th>\n",
       "      <td>Employed full-time</td>\n",
       "      <td>Once a year</td>\n",
       "      <td>Developer, back-end;Developer, desktop or ente...</td>\n",
       "    </tr>\n",
       "    <tr>\n",
       "      <th>8</th>\n",
       "      <td>Independent contractor, freelancer, or self-em...</td>\n",
       "      <td>Once a year</td>\n",
       "      <td>Developer, full-stack</td>\n",
       "    </tr>\n",
       "    <tr>\n",
       "      <th>15</th>\n",
       "      <td>Independent contractor, freelancer, or self-em...</td>\n",
       "      <td>Once a year</td>\n",
       "      <td>Database administrator;Developer, back-end;Dev...</td>\n",
       "    </tr>\n",
       "    <tr>\n",
       "      <th>16</th>\n",
       "      <td>Employed full-time</td>\n",
       "      <td>Once a year</td>\n",
       "      <td>Developer, full-stack</td>\n",
       "    </tr>\n",
       "    <tr>\n",
       "      <th>18</th>\n",
       "      <td>Employed full-time</td>\n",
       "      <td>Once a year</td>\n",
       "      <td>Developer, full-stack</td>\n",
       "    </tr>\n",
       "    <tr>\n",
       "      <th>32</th>\n",
       "      <td>Employed full-time</td>\n",
       "      <td>Once a year</td>\n",
       "      <td>Developer, front-end;Developer, full-stack;Dev...</td>\n",
       "    </tr>\n",
       "    <tr>\n",
       "      <th>33</th>\n",
       "      <td>Not employed, but looking for work</td>\n",
       "      <td>Once a year</td>\n",
       "      <td>Developer, back-end;Developer, full-stack</td>\n",
       "    </tr>\n",
       "    <tr>\n",
       "      <th>34</th>\n",
       "      <td>Not employed, but looking for work</td>\n",
       "      <td>Once a year</td>\n",
       "      <td>Designer;Developer, front-end</td>\n",
       "    </tr>\n",
       "    <tr>\n",
       "      <th>36</th>\n",
       "      <td>Employed full-time</td>\n",
       "      <td>Once a year</td>\n",
       "      <td>Developer, front-end</td>\n",
       "    </tr>\n",
       "    <tr>\n",
       "      <th>39</th>\n",
       "      <td>Student</td>\n",
       "      <td>Once a year</td>\n",
       "      <td>NaN</td>\n",
       "    </tr>\n",
       "    <tr>\n",
       "      <th>40</th>\n",
       "      <td>Employed full-time</td>\n",
       "      <td>Once a year</td>\n",
       "      <td>Developer, back-end;Developer, front-end;Devel...</td>\n",
       "    </tr>\n",
       "    <tr>\n",
       "      <th>42</th>\n",
       "      <td>Employed full-time</td>\n",
       "      <td>Once a year</td>\n",
       "      <td>Developer, back-end;Developer, front-end;Devel...</td>\n",
       "    </tr>\n",
       "    <tr>\n",
       "      <th>44</th>\n",
       "      <td>Employed full-time</td>\n",
       "      <td>Once a year</td>\n",
       "      <td>Developer, full-stack</td>\n",
       "    </tr>\n",
       "    <tr>\n",
       "      <th>45</th>\n",
       "      <td>Employed full-time</td>\n",
       "      <td>Once a year</td>\n",
       "      <td>Developer, back-end;Developer, desktop or ente...</td>\n",
       "    </tr>\n",
       "    <tr>\n",
       "      <th>46</th>\n",
       "      <td>Employed full-time</td>\n",
       "      <td>Once a year</td>\n",
       "      <td>Data scientist or machine learning specialist;...</td>\n",
       "    </tr>\n",
       "  </tbody>\n",
       "</table>\n",
       "</div>"
      ],
      "text/plain": [
       "                                           Employment     NEWLearn  \\\n",
       "0   Independent contractor, freelancer, or self-em...  Once a year   \n",
       "1                                  Employed full-time  Once a year   \n",
       "3                                                 NaN  Once a year   \n",
       "4                                  Employed full-time  Once a year   \n",
       "5                                  Employed full-time  Once a year   \n",
       "7                                  Employed full-time  Once a year   \n",
       "8   Independent contractor, freelancer, or self-em...  Once a year   \n",
       "15  Independent contractor, freelancer, or self-em...  Once a year   \n",
       "16                                 Employed full-time  Once a year   \n",
       "18                                 Employed full-time  Once a year   \n",
       "32                                 Employed full-time  Once a year   \n",
       "33                 Not employed, but looking for work  Once a year   \n",
       "34                 Not employed, but looking for work  Once a year   \n",
       "36                                 Employed full-time  Once a year   \n",
       "39                                            Student  Once a year   \n",
       "40                                 Employed full-time  Once a year   \n",
       "42                                 Employed full-time  Once a year   \n",
       "44                                 Employed full-time  Once a year   \n",
       "45                                 Employed full-time  Once a year   \n",
       "46                                 Employed full-time  Once a year   \n",
       "\n",
       "                                              DevType  \n",
       "0   Developer, desktop or enterprise applications;...  \n",
       "1             Developer, full-stack;Developer, mobile  \n",
       "3                                                 NaN  \n",
       "4                                                 NaN  \n",
       "5     Designer;Developer, front-end;Developer, mobile  \n",
       "7   Developer, back-end;Developer, desktop or ente...  \n",
       "8                               Developer, full-stack  \n",
       "15  Database administrator;Developer, back-end;Dev...  \n",
       "16                              Developer, full-stack  \n",
       "18                              Developer, full-stack  \n",
       "32  Developer, front-end;Developer, full-stack;Dev...  \n",
       "33          Developer, back-end;Developer, full-stack  \n",
       "34                      Designer;Developer, front-end  \n",
       "36                               Developer, front-end  \n",
       "39                                                NaN  \n",
       "40  Developer, back-end;Developer, front-end;Devel...  \n",
       "42  Developer, back-end;Developer, front-end;Devel...  \n",
       "44                              Developer, full-stack  \n",
       "45  Developer, back-end;Developer, desktop or ente...  \n",
       "46  Data scientist or machine learning specialist;...  "
      ]
     },
     "execution_count": 42,
     "metadata": {},
     "output_type": "execute_result"
    }
   ],
   "source": [
    "# checking devOp that is \"once a year\" to understand the DevType categories.\n",
    "\n",
    "data_devOp.head(20)"
   ]
  },
  {
   "cell_type": "markdown",
   "metadata": {},
   "source": [
    "### What is the language that people desire to use next year based on the Job satisfaction?"
   ]
  },
  {
   "cell_type": "code",
   "execution_count": 43,
   "metadata": {},
   "outputs": [],
   "source": [
    "Lang_desir = df.loc[\n",
    "        (df[\"JobSat\"]==\"Very satisfied\") | (df[\"LanguageDesireNextYear\"]==\"\"),\n",
    "                       [\"LanguageDesireNextYear\", \"LanguageWorkedWith\", \"JobSat\"]]\n"
   ]
  },
  {
   "cell_type": "code",
   "execution_count": 44,
   "metadata": {},
   "outputs": [
    {
     "data": {
      "text/html": [
       "<div>\n",
       "<style scoped>\n",
       "    .dataframe tbody tr th:only-of-type {\n",
       "        vertical-align: middle;\n",
       "    }\n",
       "\n",
       "    .dataframe tbody tr th {\n",
       "        vertical-align: top;\n",
       "    }\n",
       "\n",
       "    .dataframe thead th {\n",
       "        text-align: right;\n",
       "    }\n",
       "</style>\n",
       "<table border=\"1\" class=\"dataframe\">\n",
       "  <thead>\n",
       "    <tr style=\"text-align: right;\">\n",
       "      <th></th>\n",
       "      <th>LanguageDesireNextYear</th>\n",
       "      <th>LanguageWorkedWith</th>\n",
       "      <th>JobSat</th>\n",
       "    </tr>\n",
       "  </thead>\n",
       "  <tbody>\n",
       "    <tr>\n",
       "      <th>6</th>\n",
       "      <td>C#;HTML/CSS;PHP</td>\n",
       "      <td>C#;HTML/CSS;PHP</td>\n",
       "      <td>Very satisfied</td>\n",
       "    </tr>\n",
       "    <tr>\n",
       "      <th>9</th>\n",
       "      <td>HTML/CSS;Java;JavaScript;Python;R;SQL</td>\n",
       "      <td>HTML/CSS;Java;JavaScript;Python;SQL</td>\n",
       "      <td>Very satisfied</td>\n",
       "    </tr>\n",
       "    <tr>\n",
       "      <th>12</th>\n",
       "      <td>Python</td>\n",
       "      <td>C;JavaScript;Python</td>\n",
       "      <td>Very satisfied</td>\n",
       "    </tr>\n",
       "    <tr>\n",
       "      <th>15</th>\n",
       "      <td>Go</td>\n",
       "      <td>Bash/Shell/PowerShell;HTML/CSS;Java;JavaScript...</td>\n",
       "      <td>Very satisfied</td>\n",
       "    </tr>\n",
       "    <tr>\n",
       "      <th>17</th>\n",
       "      <td>HTML/CSS;Perl</td>\n",
       "      <td>Bash/Shell/PowerShell;HTML/CSS;Perl</td>\n",
       "      <td>Very satisfied</td>\n",
       "    </tr>\n",
       "    <tr>\n",
       "      <th>22</th>\n",
       "      <td>C#;C++</td>\n",
       "      <td>Bash/Shell/PowerShell;C#;C++</td>\n",
       "      <td>Very satisfied</td>\n",
       "    </tr>\n",
       "    <tr>\n",
       "      <th>23</th>\n",
       "      <td>Bash/Shell/PowerShell;Go;Java;Julia;Kotlin;Pyt...</td>\n",
       "      <td>Bash/Shell/PowerShell;Java;Kotlin;PHP;SQL</td>\n",
       "      <td>Very satisfied</td>\n",
       "    </tr>\n",
       "    <tr>\n",
       "      <th>36</th>\n",
       "      <td>Dart;Python</td>\n",
       "      <td>Bash/Shell/PowerShell;Haskell;HTML/CSS;JavaScr...</td>\n",
       "      <td>Very satisfied</td>\n",
       "    </tr>\n",
       "    <tr>\n",
       "      <th>37</th>\n",
       "      <td>JavaScript;Rust;TypeScript</td>\n",
       "      <td>HTML/CSS;JavaScript;Python;Ruby;Rust</td>\n",
       "      <td>Very satisfied</td>\n",
       "    </tr>\n",
       "    <tr>\n",
       "      <th>41</th>\n",
       "      <td>Bash/Shell/PowerShell;C#;Go;Java;Python;Rust</td>\n",
       "      <td>Bash/Shell/PowerShell;C#;HTML/CSS;Java;JavaScr...</td>\n",
       "      <td>Very satisfied</td>\n",
       "    </tr>\n",
       "    <tr>\n",
       "      <th>44</th>\n",
       "      <td>Java;Python;Rust</td>\n",
       "      <td>Bash/Shell/PowerShell;C;C++;Java;JavaScript;Py...</td>\n",
       "      <td>Very satisfied</td>\n",
       "    </tr>\n",
       "    <tr>\n",
       "      <th>46</th>\n",
       "      <td>Bash/Shell/PowerShell;Java;Python;SQL</td>\n",
       "      <td>Bash/Shell/PowerShell;C#;Java;JavaScript;Pytho...</td>\n",
       "      <td>Very satisfied</td>\n",
       "    </tr>\n",
       "    <tr>\n",
       "      <th>48</th>\n",
       "      <td>C#;HTML/CSS;JavaScript;Python;TypeScript</td>\n",
       "      <td>C#;HTML/CSS;JavaScript;TypeScript</td>\n",
       "      <td>Very satisfied</td>\n",
       "    </tr>\n",
       "    <tr>\n",
       "      <th>51</th>\n",
       "      <td>Java;Kotlin</td>\n",
       "      <td>Java;Kotlin</td>\n",
       "      <td>Very satisfied</td>\n",
       "    </tr>\n",
       "    <tr>\n",
       "      <th>53</th>\n",
       "      <td>C#;HTML/CSS;JavaScript</td>\n",
       "      <td>C#;HTML/CSS;JavaScript</td>\n",
       "      <td>Very satisfied</td>\n",
       "    </tr>\n",
       "    <tr>\n",
       "      <th>55</th>\n",
       "      <td>Python;TypeScript</td>\n",
       "      <td>HTML/CSS;JavaScript;PHP;Python;SQL;TypeScript</td>\n",
       "      <td>Very satisfied</td>\n",
       "    </tr>\n",
       "    <tr>\n",
       "      <th>56</th>\n",
       "      <td>C#</td>\n",
       "      <td>C#;VBA</td>\n",
       "      <td>Very satisfied</td>\n",
       "    </tr>\n",
       "    <tr>\n",
       "      <th>57</th>\n",
       "      <td>C#;JavaScript;SQL;TypeScript</td>\n",
       "      <td>C#;JavaScript;SQL;TypeScript</td>\n",
       "      <td>Very satisfied</td>\n",
       "    </tr>\n",
       "    <tr>\n",
       "      <th>63</th>\n",
       "      <td>HTML/CSS;JavaScript;Perl;SQL;TypeScript</td>\n",
       "      <td>HTML/CSS;JavaScript;Perl;SQL</td>\n",
       "      <td>Very satisfied</td>\n",
       "    </tr>\n",
       "    <tr>\n",
       "      <th>66</th>\n",
       "      <td>Rust</td>\n",
       "      <td>HTML/CSS;JavaScript;Ruby</td>\n",
       "      <td>Very satisfied</td>\n",
       "    </tr>\n",
       "  </tbody>\n",
       "</table>\n",
       "</div>"
      ],
      "text/plain": [
       "                               LanguageDesireNextYear  \\\n",
       "6                                     C#;HTML/CSS;PHP   \n",
       "9               HTML/CSS;Java;JavaScript;Python;R;SQL   \n",
       "12                                             Python   \n",
       "15                                                 Go   \n",
       "17                                      HTML/CSS;Perl   \n",
       "22                                             C#;C++   \n",
       "23  Bash/Shell/PowerShell;Go;Java;Julia;Kotlin;Pyt...   \n",
       "36                                        Dart;Python   \n",
       "37                         JavaScript;Rust;TypeScript   \n",
       "41       Bash/Shell/PowerShell;C#;Go;Java;Python;Rust   \n",
       "44                                   Java;Python;Rust   \n",
       "46              Bash/Shell/PowerShell;Java;Python;SQL   \n",
       "48           C#;HTML/CSS;JavaScript;Python;TypeScript   \n",
       "51                                        Java;Kotlin   \n",
       "53                             C#;HTML/CSS;JavaScript   \n",
       "55                                  Python;TypeScript   \n",
       "56                                                 C#   \n",
       "57                       C#;JavaScript;SQL;TypeScript   \n",
       "63            HTML/CSS;JavaScript;Perl;SQL;TypeScript   \n",
       "66                                               Rust   \n",
       "\n",
       "                                   LanguageWorkedWith          JobSat  \n",
       "6                                     C#;HTML/CSS;PHP  Very satisfied  \n",
       "9                 HTML/CSS;Java;JavaScript;Python;SQL  Very satisfied  \n",
       "12                                C;JavaScript;Python  Very satisfied  \n",
       "15  Bash/Shell/PowerShell;HTML/CSS;Java;JavaScript...  Very satisfied  \n",
       "17                Bash/Shell/PowerShell;HTML/CSS;Perl  Very satisfied  \n",
       "22                       Bash/Shell/PowerShell;C#;C++  Very satisfied  \n",
       "23          Bash/Shell/PowerShell;Java;Kotlin;PHP;SQL  Very satisfied  \n",
       "36  Bash/Shell/PowerShell;Haskell;HTML/CSS;JavaScr...  Very satisfied  \n",
       "37               HTML/CSS;JavaScript;Python;Ruby;Rust  Very satisfied  \n",
       "41  Bash/Shell/PowerShell;C#;HTML/CSS;Java;JavaScr...  Very satisfied  \n",
       "44  Bash/Shell/PowerShell;C;C++;Java;JavaScript;Py...  Very satisfied  \n",
       "46  Bash/Shell/PowerShell;C#;Java;JavaScript;Pytho...  Very satisfied  \n",
       "48                  C#;HTML/CSS;JavaScript;TypeScript  Very satisfied  \n",
       "51                                        Java;Kotlin  Very satisfied  \n",
       "53                             C#;HTML/CSS;JavaScript  Very satisfied  \n",
       "55      HTML/CSS;JavaScript;PHP;Python;SQL;TypeScript  Very satisfied  \n",
       "56                                             C#;VBA  Very satisfied  \n",
       "57                       C#;JavaScript;SQL;TypeScript  Very satisfied  \n",
       "63                       HTML/CSS;JavaScript;Perl;SQL  Very satisfied  \n",
       "66                           HTML/CSS;JavaScript;Ruby  Very satisfied  "
      ]
     },
     "execution_count": 44,
     "metadata": {},
     "output_type": "execute_result"
    }
   ],
   "source": [
    "Lang_desir.head(20)\n",
    "\n",
    "# desired language that people used due to a report of job satisfaction "
   ]
  },
  {
   "cell_type": "markdown",
   "metadata": {},
   "source": [
    "### What is the data worked with from the dev. type?"
   ]
  },
  {
   "cell_type": "code",
   "execution_count": 45,
   "metadata": {},
   "outputs": [],
   "source": [
    "data_worked_on = df.loc[\n",
    "        (df[\"DatabaseWorkedWith\"]==\"Microsoft SQL Server\") | (df[\"DatabaseDesireNextYear\"]==\"\"),\n",
    "                       [\"DevType\", \"DatabaseDesireNextYear\", \"DatabaseWorkedWith\"]]"
   ]
  },
  {
   "cell_type": "code",
   "execution_count": 46,
   "metadata": {},
   "outputs": [
    {
     "data": {
      "text/html": [
       "<div>\n",
       "<style scoped>\n",
       "    .dataframe tbody tr th:only-of-type {\n",
       "        vertical-align: middle;\n",
       "    }\n",
       "\n",
       "    .dataframe tbody tr th {\n",
       "        vertical-align: top;\n",
       "    }\n",
       "\n",
       "    .dataframe thead th {\n",
       "        text-align: right;\n",
       "    }\n",
       "</style>\n",
       "<table border=\"1\" class=\"dataframe\">\n",
       "  <thead>\n",
       "    <tr style=\"text-align: right;\">\n",
       "      <th></th>\n",
       "      <th>DevType</th>\n",
       "      <th>DatabaseDesireNextYear</th>\n",
       "      <th>DatabaseWorkedWith</th>\n",
       "    </tr>\n",
       "  </thead>\n",
       "  <tbody>\n",
       "    <tr>\n",
       "      <th>9</th>\n",
       "      <td>Database administrator;Developer, full-stack;D...</td>\n",
       "      <td>Microsoft SQL Server</td>\n",
       "      <td>Microsoft SQL Server</td>\n",
       "    </tr>\n",
       "    <tr>\n",
       "      <th>40</th>\n",
       "      <td>Developer, back-end;Developer, front-end;Devel...</td>\n",
       "      <td>Microsoft SQL Server</td>\n",
       "      <td>Microsoft SQL Server</td>\n",
       "    </tr>\n",
       "    <tr>\n",
       "      <th>43</th>\n",
       "      <td>Data or business analyst;Developer, back-end;P...</td>\n",
       "      <td>Microsoft SQL Server</td>\n",
       "      <td>Microsoft SQL Server</td>\n",
       "    </tr>\n",
       "    <tr>\n",
       "      <th>48</th>\n",
       "      <td>Developer, back-end;Developer, desktop or ente...</td>\n",
       "      <td>Microsoft SQL Server</td>\n",
       "      <td>Microsoft SQL Server</td>\n",
       "    </tr>\n",
       "    <tr>\n",
       "      <th>57</th>\n",
       "      <td>Developer, back-end</td>\n",
       "      <td>Microsoft SQL Server</td>\n",
       "      <td>Microsoft SQL Server</td>\n",
       "    </tr>\n",
       "    <tr>\n",
       "      <th>64</th>\n",
       "      <td>Developer, back-end;Developer, front-end;Devel...</td>\n",
       "      <td>Couchbase;Elasticsearch;Redis</td>\n",
       "      <td>Microsoft SQL Server</td>\n",
       "    </tr>\n",
       "    <tr>\n",
       "      <th>81</th>\n",
       "      <td>Developer, back-end;Developer, full-stack;Deve...</td>\n",
       "      <td>Microsoft SQL Server</td>\n",
       "      <td>Microsoft SQL Server</td>\n",
       "    </tr>\n",
       "    <tr>\n",
       "      <th>135</th>\n",
       "      <td>Developer, desktop or enterprise applications</td>\n",
       "      <td>Microsoft SQL Server</td>\n",
       "      <td>Microsoft SQL Server</td>\n",
       "    </tr>\n",
       "    <tr>\n",
       "      <th>140</th>\n",
       "      <td>Developer, back-end;Developer, front-end;Devel...</td>\n",
       "      <td>Microsoft SQL Server;MongoDB;SQLite</td>\n",
       "      <td>Microsoft SQL Server</td>\n",
       "    </tr>\n",
       "    <tr>\n",
       "      <th>143</th>\n",
       "      <td>System administrator</td>\n",
       "      <td>NaN</td>\n",
       "      <td>Microsoft SQL Server</td>\n",
       "    </tr>\n",
       "    <tr>\n",
       "      <th>157</th>\n",
       "      <td>Developer, desktop or enterprise applications;...</td>\n",
       "      <td>Microsoft SQL Server</td>\n",
       "      <td>Microsoft SQL Server</td>\n",
       "    </tr>\n",
       "    <tr>\n",
       "      <th>171</th>\n",
       "      <td>Academic researcher;Developer, full-stack</td>\n",
       "      <td>Elasticsearch;MongoDB;Redis</td>\n",
       "      <td>Microsoft SQL Server</td>\n",
       "    </tr>\n",
       "    <tr>\n",
       "      <th>197</th>\n",
       "      <td>NaN</td>\n",
       "      <td>PostgreSQL;Redis</td>\n",
       "      <td>Microsoft SQL Server</td>\n",
       "    </tr>\n",
       "    <tr>\n",
       "      <th>203</th>\n",
       "      <td>Database administrator;Developer, back-end;Dev...</td>\n",
       "      <td>Microsoft SQL Server</td>\n",
       "      <td>Microsoft SQL Server</td>\n",
       "    </tr>\n",
       "    <tr>\n",
       "      <th>220</th>\n",
       "      <td>NaN</td>\n",
       "      <td>PostgreSQL</td>\n",
       "      <td>Microsoft SQL Server</td>\n",
       "    </tr>\n",
       "  </tbody>\n",
       "</table>\n",
       "</div>"
      ],
      "text/plain": [
       "                                               DevType  \\\n",
       "9    Database administrator;Developer, full-stack;D...   \n",
       "40   Developer, back-end;Developer, front-end;Devel...   \n",
       "43   Data or business analyst;Developer, back-end;P...   \n",
       "48   Developer, back-end;Developer, desktop or ente...   \n",
       "57                                 Developer, back-end   \n",
       "64   Developer, back-end;Developer, front-end;Devel...   \n",
       "81   Developer, back-end;Developer, full-stack;Deve...   \n",
       "135      Developer, desktop or enterprise applications   \n",
       "140  Developer, back-end;Developer, front-end;Devel...   \n",
       "143                               System administrator   \n",
       "157  Developer, desktop or enterprise applications;...   \n",
       "171          Academic researcher;Developer, full-stack   \n",
       "197                                                NaN   \n",
       "203  Database administrator;Developer, back-end;Dev...   \n",
       "220                                                NaN   \n",
       "\n",
       "                  DatabaseDesireNextYear    DatabaseWorkedWith  \n",
       "9                   Microsoft SQL Server  Microsoft SQL Server  \n",
       "40                  Microsoft SQL Server  Microsoft SQL Server  \n",
       "43                  Microsoft SQL Server  Microsoft SQL Server  \n",
       "48                  Microsoft SQL Server  Microsoft SQL Server  \n",
       "57                  Microsoft SQL Server  Microsoft SQL Server  \n",
       "64         Couchbase;Elasticsearch;Redis  Microsoft SQL Server  \n",
       "81                  Microsoft SQL Server  Microsoft SQL Server  \n",
       "135                 Microsoft SQL Server  Microsoft SQL Server  \n",
       "140  Microsoft SQL Server;MongoDB;SQLite  Microsoft SQL Server  \n",
       "143                                  NaN  Microsoft SQL Server  \n",
       "157                 Microsoft SQL Server  Microsoft SQL Server  \n",
       "171          Elasticsearch;MongoDB;Redis  Microsoft SQL Server  \n",
       "197                     PostgreSQL;Redis  Microsoft SQL Server  \n",
       "203                 Microsoft SQL Server  Microsoft SQL Server  \n",
       "220                           PostgreSQL  Microsoft SQL Server  "
      ]
     },
     "execution_count": 46,
     "metadata": {},
     "output_type": "execute_result"
    }
   ],
   "source": [
    "data_worked_on.head(15)"
   ]
  },
  {
   "cell_type": "code",
   "execution_count": 47,
   "metadata": {},
   "outputs": [
    {
     "data": {
      "text/plain": [
       "array(['Yes', 'No', nan], dtype=object)"
      ]
     },
     "execution_count": 47,
     "metadata": {},
     "output_type": "execute_result"
    }
   ],
   "source": [
    "df['Hobbyist'].unique()"
   ]
  },
  {
   "cell_type": "code",
   "execution_count": 48,
   "metadata": {},
   "outputs": [
    {
     "data": {
      "text/plain": [
       "0.6383860008377158"
      ]
     },
     "execution_count": 48,
     "metadata": {},
     "output_type": "execute_result"
    }
   ],
   "source": [
    "# What proportion of individuals in the dataset reported a work weekly?\n",
    "prop_work = 1 - df.isnull()['WorkWeekHrs'].mean()\n",
    "\n",
    "prop_work"
   ]
  },
  {
   "cell_type": "code",
   "execution_count": 49,
   "metadata": {},
   "outputs": [],
   "source": [
    "data_transf = df[['Age','CompTotal','ConvertedComp','WorkWeekHrs']]\n",
    "\n",
    "data_mod = data_transf.dropna(subset=['ConvertedComp'],axis=0)"
   ]
  },
  {
   "cell_type": "code",
   "execution_count": 50,
   "metadata": {},
   "outputs": [
    {
     "data": {
      "text/html": [
       "<div>\n",
       "<style scoped>\n",
       "    .dataframe tbody tr th:only-of-type {\n",
       "        vertical-align: middle;\n",
       "    }\n",
       "\n",
       "    .dataframe tbody tr th {\n",
       "        vertical-align: top;\n",
       "    }\n",
       "\n",
       "    .dataframe thead th {\n",
       "        text-align: right;\n",
       "    }\n",
       "</style>\n",
       "<table border=\"1\" class=\"dataframe\">\n",
       "  <thead>\n",
       "    <tr style=\"text-align: right;\">\n",
       "      <th></th>\n",
       "      <th>Age</th>\n",
       "      <th>CompTotal</th>\n",
       "      <th>ConvertedComp</th>\n",
       "      <th>WorkWeekHrs</th>\n",
       "    </tr>\n",
       "  </thead>\n",
       "  <tbody>\n",
       "    <tr>\n",
       "      <th>7</th>\n",
       "      <td>36.0</td>\n",
       "      <td>116000.0</td>\n",
       "      <td>116000.0</td>\n",
       "      <td>39.0</td>\n",
       "    </tr>\n",
       "    <tr>\n",
       "      <th>9</th>\n",
       "      <td>22.0</td>\n",
       "      <td>25000.0</td>\n",
       "      <td>32315.0</td>\n",
       "      <td>36.0</td>\n",
       "    </tr>\n",
       "    <tr>\n",
       "      <th>10</th>\n",
       "      <td>23.0</td>\n",
       "      <td>31000.0</td>\n",
       "      <td>40070.0</td>\n",
       "      <td>40.0</td>\n",
       "    </tr>\n",
       "    <tr>\n",
       "      <th>11</th>\n",
       "      <td>49.0</td>\n",
       "      <td>1100.0</td>\n",
       "      <td>14268.0</td>\n",
       "      <td>40.0</td>\n",
       "    </tr>\n",
       "    <tr>\n",
       "      <th>12</th>\n",
       "      <td>53.0</td>\n",
       "      <td>3000.0</td>\n",
       "      <td>38916.0</td>\n",
       "      <td>36.0</td>\n",
       "    </tr>\n",
       "  </tbody>\n",
       "</table>\n",
       "</div>"
      ],
      "text/plain": [
       "     Age  CompTotal  ConvertedComp  WorkWeekHrs\n",
       "7   36.0   116000.0       116000.0         39.0\n",
       "9   22.0    25000.0        32315.0         36.0\n",
       "10  23.0    31000.0        40070.0         40.0\n",
       "11  49.0     1100.0        14268.0         40.0\n",
       "12  53.0     3000.0        38916.0         36.0"
      ]
     },
     "execution_count": 50,
     "metadata": {},
     "output_type": "execute_result"
    }
   ],
   "source": [
    "data_mod.head()"
   ]
  },
  {
   "cell_type": "code",
   "execution_count": 51,
   "metadata": {},
   "outputs": [],
   "source": [
    "# dropping the missing value\n",
    "data_mod2 = data_mod.dropna(subset=['Age','CompTotal','ConvertedComp','WorkWeekHrs'], how='any')"
   ]
  },
  {
   "cell_type": "code",
   "execution_count": 52,
   "metadata": {},
   "outputs": [],
   "source": [
    "X = data_mod2[['Age','CompTotal','WorkWeekHrs']]\n",
    "y = data_mod2['ConvertedComp']"
   ]
  },
  {
   "cell_type": "code",
   "execution_count": 53,
   "metadata": {},
   "outputs": [],
   "source": [
    "X_train, X_test, y_train, y_test = train_test_split(X, y , test_size=.30, random_state=42)\n",
    "lm_model = LinearRegression(normalize=True)"
   ]
  },
  {
   "cell_type": "code",
   "execution_count": 54,
   "metadata": {},
   "outputs": [
    {
     "data": {
      "text/plain": [
       "LinearRegression(copy_X=True, fit_intercept=True, n_jobs=None, normalize=True)"
      ]
     },
     "execution_count": 54,
     "metadata": {},
     "output_type": "execute_result"
    }
   ],
   "source": [
    "lm_model.fit(X_train, y_train)\n"
   ]
  },
  {
   "cell_type": "code",
   "execution_count": 55,
   "metadata": {},
   "outputs": [],
   "source": [
    "y_test_preds = lm_model.predict(X_test)\n",
    "r_test = r2_score(y_test, y_test_preds)"
   ]
  },
  {
   "cell_type": "code",
   "execution_count": 56,
   "metadata": {},
   "outputs": [
    {
     "data": {
      "text/plain": [
       "0.012711734787870355"
      ]
     },
     "execution_count": 56,
     "metadata": {},
     "output_type": "execute_result"
    }
   ],
   "source": [
    "r_test"
   ]
  },
  {
   "cell_type": "code",
   "execution_count": 1,
   "metadata": {},
   "outputs": [
    {
     "ename": "NameError",
     "evalue": "name 'df' is not defined",
     "output_type": "error",
     "traceback": [
      "\u001b[1;31m---------------------------------------------------------------------------\u001b[0m",
      "\u001b[1;31mNameError\u001b[0m                                 Traceback (most recent call last)",
      "\u001b[1;32m<ipython-input-1-48c00db4d9bd>\u001b[0m in \u001b[0;36m<module>\u001b[1;34m\u001b[0m\n\u001b[1;32m----> 1\u001b[1;33m \u001b[0mdata_anal\u001b[0m \u001b[1;33m=\u001b[0m \u001b[0mdf\u001b[0m\u001b[1;33m[\u001b[0m\u001b[1;33m[\u001b[0m\u001b[1;34m'Age'\u001b[0m\u001b[1;33m,\u001b[0m\u001b[1;34m'CompTotal'\u001b[0m\u001b[1;33m,\u001b[0m\u001b[1;34m'ConvertedComp'\u001b[0m\u001b[1;33m,\u001b[0m\u001b[1;34m'WorkWeekHrs'\u001b[0m\u001b[1;33m]\u001b[0m\u001b[1;33m]\u001b[0m\u001b[1;33m\u001b[0m\u001b[1;33m\u001b[0m\u001b[0m\n\u001b[0m",
      "\u001b[1;31mNameError\u001b[0m: name 'df' is not defined"
     ]
    }
   ],
   "source": [
    "data_anal = df[['Age','CompTotal','ConvertedComp','WorkWeekHrs']]"
   ]
  },
  {
   "cell_type": "markdown",
   "metadata": {},
   "source": [
    "### Filling the missing values with mean"
   ]
  },
  {
   "cell_type": "code",
   "execution_count": 58,
   "metadata": {},
   "outputs": [
    {
     "data": {
      "text/html": [
       "<div>\n",
       "<style scoped>\n",
       "    .dataframe tbody tr th:only-of-type {\n",
       "        vertical-align: middle;\n",
       "    }\n",
       "\n",
       "    .dataframe tbody tr th {\n",
       "        vertical-align: top;\n",
       "    }\n",
       "\n",
       "    .dataframe thead th {\n",
       "        text-align: right;\n",
       "    }\n",
       "</style>\n",
       "<table border=\"1\" class=\"dataframe\">\n",
       "  <thead>\n",
       "    <tr style=\"text-align: right;\">\n",
       "      <th></th>\n",
       "      <th>Age</th>\n",
       "      <th>CompTotal</th>\n",
       "      <th>ConvertedComp</th>\n",
       "      <th>WorkWeekHrs</th>\n",
       "    </tr>\n",
       "  </thead>\n",
       "  <tbody>\n",
       "    <tr>\n",
       "      <th>7</th>\n",
       "      <td>36.0</td>\n",
       "      <td>116000.0</td>\n",
       "      <td>116000.0</td>\n",
       "      <td>39.0</td>\n",
       "    </tr>\n",
       "    <tr>\n",
       "      <th>9</th>\n",
       "      <td>22.0</td>\n",
       "      <td>25000.0</td>\n",
       "      <td>32315.0</td>\n",
       "      <td>36.0</td>\n",
       "    </tr>\n",
       "    <tr>\n",
       "      <th>10</th>\n",
       "      <td>23.0</td>\n",
       "      <td>31000.0</td>\n",
       "      <td>40070.0</td>\n",
       "      <td>40.0</td>\n",
       "    </tr>\n",
       "    <tr>\n",
       "      <th>11</th>\n",
       "      <td>49.0</td>\n",
       "      <td>1100.0</td>\n",
       "      <td>14268.0</td>\n",
       "      <td>40.0</td>\n",
       "    </tr>\n",
       "    <tr>\n",
       "      <th>12</th>\n",
       "      <td>53.0</td>\n",
       "      <td>3000.0</td>\n",
       "      <td>38916.0</td>\n",
       "      <td>36.0</td>\n",
       "    </tr>\n",
       "  </tbody>\n",
       "</table>\n",
       "</div>"
      ],
      "text/plain": [
       "     Age  CompTotal  ConvertedComp  WorkWeekHrs\n",
       "7   36.0   116000.0       116000.0         39.0\n",
       "9   22.0    25000.0        32315.0         36.0\n",
       "10  23.0    31000.0        40070.0         40.0\n",
       "11  49.0     1100.0        14268.0         40.0\n",
       "12  53.0     3000.0        38916.0         36.0"
      ]
     },
     "execution_count": 58,
     "metadata": {},
     "output_type": "execute_result"
    }
   ],
   "source": [
    "data_imp = data_anal.dropna(subset=['ConvertedComp'], axis=0)\n",
    "\n",
    "data_imp.head()"
   ]
  },
  {
   "cell_type": "code",
   "execution_count": 59,
   "metadata": {},
   "outputs": [
    {
     "data": {
      "text/html": [
       "<div>\n",
       "<style scoped>\n",
       "    .dataframe tbody tr th:only-of-type {\n",
       "        vertical-align: middle;\n",
       "    }\n",
       "\n",
       "    .dataframe tbody tr th {\n",
       "        vertical-align: top;\n",
       "    }\n",
       "\n",
       "    .dataframe thead th {\n",
       "        text-align: right;\n",
       "    }\n",
       "</style>\n",
       "<table border=\"1\" class=\"dataframe\">\n",
       "  <thead>\n",
       "    <tr style=\"text-align: right;\">\n",
       "      <th></th>\n",
       "      <th>Age</th>\n",
       "      <th>CompTotal</th>\n",
       "      <th>ConvertedComp</th>\n",
       "      <th>WorkWeekHrs</th>\n",
       "    </tr>\n",
       "  </thead>\n",
       "  <tbody>\n",
       "    <tr>\n",
       "      <th>7</th>\n",
       "      <td>36.0</td>\n",
       "      <td>116000.0</td>\n",
       "      <td>116000.0</td>\n",
       "      <td>39.0</td>\n",
       "    </tr>\n",
       "    <tr>\n",
       "      <th>9</th>\n",
       "      <td>22.0</td>\n",
       "      <td>25000.0</td>\n",
       "      <td>32315.0</td>\n",
       "      <td>36.0</td>\n",
       "    </tr>\n",
       "    <tr>\n",
       "      <th>10</th>\n",
       "      <td>23.0</td>\n",
       "      <td>31000.0</td>\n",
       "      <td>40070.0</td>\n",
       "      <td>40.0</td>\n",
       "    </tr>\n",
       "    <tr>\n",
       "      <th>11</th>\n",
       "      <td>49.0</td>\n",
       "      <td>1100.0</td>\n",
       "      <td>14268.0</td>\n",
       "      <td>40.0</td>\n",
       "    </tr>\n",
       "    <tr>\n",
       "      <th>12</th>\n",
       "      <td>53.0</td>\n",
       "      <td>3000.0</td>\n",
       "      <td>38916.0</td>\n",
       "      <td>36.0</td>\n",
       "    </tr>\n",
       "  </tbody>\n",
       "</table>\n",
       "</div>"
      ],
      "text/plain": [
       "     Age  CompTotal  ConvertedComp  WorkWeekHrs\n",
       "7   36.0   116000.0       116000.0         39.0\n",
       "9   22.0    25000.0        32315.0         36.0\n",
       "10  23.0    31000.0        40070.0         40.0\n",
       "11  49.0     1100.0        14268.0         40.0\n",
       "12  53.0     3000.0        38916.0         36.0"
      ]
     },
     "execution_count": 59,
     "metadata": {},
     "output_type": "execute_result"
    }
   ],
   "source": [
    "# imputing the mean for the rest of the data\n",
    "\n",
    "data_imp2 = lambda col: col.fillna(col.mean())\n",
    "\n",
    "imputed_data = data_imp.apply(data_imp2, axis=0)\n",
    "\n",
    "imputed_data.head()"
   ]
  },
  {
   "cell_type": "code",
   "execution_count": 60,
   "metadata": {},
   "outputs": [],
   "source": [
    "# fitting and modeling\n",
    "\n",
    "X = imputed_data[['Age','CompTotal','WorkWeekHrs']]\n",
    "                  \n",
    "y = imputed_data['ConvertedComp']       \n",
    "\n",
    "#Split into train and test\n",
    "X_train, X_test, y_train, y_test = train_test_split(X, y, test_size = .30, random_state=42)\n",
    "\n",
    "lm_model2 = LinearRegression(normalize=True) # Instantiate\n",
    "lm_model2.fit(X_train, y_train) #Fit\n",
    "\n",
    "#Predict and score the model\n",
    "y_test_preds2 = lm_model2.predict(X_test) \n",
    "\n",
    "#Rsquared and y_test\n",
    "rsquared_score = r2_score(y_test, y_test_preds2)\n",
    "length_y_test = len(y_test)"
   ]
  },
  {
   "cell_type": "code",
   "execution_count": 61,
   "metadata": {},
   "outputs": [
    {
     "data": {
      "text/plain": [
       "10427"
      ]
     },
     "execution_count": 61,
     "metadata": {},
     "output_type": "execute_result"
    }
   ],
   "source": [
    "length_y_test"
   ]
  },
  {
   "cell_type": "code",
   "execution_count": 62,
   "metadata": {},
   "outputs": [
    {
     "data": {
      "text/plain": [
       "0.010825238332260567"
      ]
     },
     "execution_count": 62,
     "metadata": {},
     "output_type": "execute_result"
    }
   ],
   "source": [
    "# it looks like it improved compared to the dropped columns.\n",
    "rsquared_score"
   ]
  },
  {
   "cell_type": "markdown",
   "metadata": {},
   "source": [
    "### Working with categorical variable"
   ]
  },
  {
   "cell_type": "code",
   "execution_count": 63,
   "metadata": {},
   "outputs": [
    {
     "data": {
      "text/plain": [
       "56"
      ]
     },
     "execution_count": 63,
     "metadata": {},
     "output_type": "execute_result"
    }
   ],
   "source": [
    "cat_df = df.select_dtypes(include=['object'])\n",
    "\n",
    "cat_df.shape[1]"
   ]
  },
  {
   "cell_type": "code",
   "execution_count": 64,
   "metadata": {},
   "outputs": [],
   "source": [
    "#Create a copy of the dataframe\n",
    "cat_df_copy = cat_df.copy()\n",
    "#Pull a list of the column names of the categorical variables\n",
    "cat_cols_lst = cat_df.columns\n",
    "\n",
    "def dummy_df(df, cat_cols, dummy_na):\n",
    "    \n",
    "    \n",
    "    for col in  cat_cols:\n",
    "        try:\n",
    "            # for each cat add dummy var, drop original column\n",
    "            df = pd.concat([df.drop(col, axis=1), pd.get_dummies(df[col], prefix=col, prefix_sep='_', drop_first=True, \n",
    "                                                                 dummy_na=dummy_na)], axis=1)\n",
    "        except:\n",
    "            continue\n",
    "    return df\n"
   ]
  },
  {
   "cell_type": "code",
   "execution_count": null,
   "metadata": {},
   "outputs": [],
   "source": [
    "df  = df.dropna(subset=['ConvertedComp'], axis=0)\n",
    "\n",
    "\n",
    "cat_df = df.select_dtypes(include=['object'])\n",
    "cat_cols_lst = cat_df.columns\n",
    "\n",
    "new_df = dummy_df(df, cat_cols_lst, dummy_na=False) #Use your newly created function\n",
    "\n",
    "# Show a header of df_new to check\n",
    "print(new_df.shape)"
   ]
  },
  {
   "cell_type": "code",
   "execution_count": null,
   "metadata": {},
   "outputs": [],
   "source": [
    "# taking a look at the categorical variables\n",
    "\n",
    "def clean_fit_linear_mod(df, response_col, cat_cols, dummy_na, test_size=.3, rand_state=42):\n",
    "    \n",
    "    \n",
    "    #Dropping the rows with missing response values\n",
    "    df  = df.dropna(subset=[response_col], axis=0)\n",
    "\n",
    "    #Dropping columns with NaN values\n",
    "    df = df.dropna(how='all', axis=1)\n",
    "\n",
    "    #Dummy categorical variables\n",
    "    df = dummy_df(df, cat_cols, dummy_na)\n",
    "\n",
    "    # Mean \n",
    "    fill_mean = lambda col: col.fillna(col.mean())\n",
    "    # Fill the mean\n",
    "    df = df.apply(fill_mean, axis=0)\n",
    "\n",
    "    #explanatory and response variables splitting\n",
    "    X = df.drop(response_col, axis=1)\n",
    "    y = df[response_col]\n",
    "\n",
    "    #train and test splitting\n",
    "    X_train, X_test, y_train, y_test = train_test_split(X, y, test_size=test_size, random_state=rand_state)\n",
    "\n",
    "    lm_model = LinearRegression(normalize=True) \n",
    "    lm_model.fit(X_train, y_train) \n",
    "\n",
    "    #Predicting\n",
    "    y_test_preds = lm_model.predict(X_test)\n",
    "    y_train_preds = lm_model.predict(X_train)\n",
    "\n",
    "    #Scoring of the model\n",
    "    test_score = r2_score(y_test, y_test_preds)\n",
    "    train_score = r2_score(y_train, y_train_preds)\n",
    "\n",
    "    return test_score, train_score, lm_model, X_train, X_test, y_train, y_test\n",
    "\n",
    "\n",
    "#Testing the function\n",
    "test_score, train_score, lm_model, X_train, X_test, y_train, y_test = clean_fit_linear_mod(new_df, 'ConvertedComp', \n",
    "                                                                                           cat_cols_lst, dummy_na=False)\n",
    "\n",
    "   "
   ]
  },
  {
   "cell_type": "code",
   "execution_count": null,
   "metadata": {},
   "outputs": [],
   "source": []
  },
  {
   "cell_type": "code",
   "execution_count": null,
   "metadata": {},
   "outputs": [],
   "source": []
  },
  {
   "cell_type": "code",
   "execution_count": null,
   "metadata": {},
   "outputs": [],
   "source": []
  }
 ],
 "metadata": {
  "kernelspec": {
   "display_name": "Python 3",
   "language": "python",
   "name": "python3"
  },
  "language_info": {
   "codemirror_mode": {
    "name": "ipython",
    "version": 3
   },
   "file_extension": ".py",
   "mimetype": "text/x-python",
   "name": "python",
   "nbconvert_exporter": "python",
   "pygments_lexer": "ipython3",
   "version": "3.7.6"
  }
 },
 "nbformat": 4,
 "nbformat_minor": 4
}
